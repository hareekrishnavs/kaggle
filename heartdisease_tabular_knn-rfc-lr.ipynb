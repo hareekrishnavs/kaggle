{
 "cells": [
  {
   "cell_type": "markdown",
   "id": "3dbbb05c",
   "metadata": {
    "papermill": {
     "duration": 0.070003,
     "end_time": "2021-10-07T16:38:39.078727",
     "exception": false,
     "start_time": "2021-10-07T16:38:39.008724",
     "status": "completed"
    },
    "tags": []
   },
   "source": [
    "# Predicting heart disease using ML\n",
    "\n",
    "In this notebook we are going to use various ML libraries in an attempt to build a ML model which can predict whether some one has heart disease or not"
   ]
  },
  {
   "cell_type": "markdown",
   "id": "5344d771",
   "metadata": {
    "papermill": {
     "duration": 0.066778,
     "end_time": "2021-10-07T16:38:39.215641",
     "exception": false,
     "start_time": "2021-10-07T16:38:39.148863",
     "status": "completed"
    },
    "tags": []
   },
   "source": [
    "## Approach followed\n",
    "\n",
    "1. Problem definition\n",
    "2. Data \n",
    "3. Evaluation\n",
    "4. Features\n",
    "5. Modelling\n",
    "6. Experimenting(will be followed in ever step)\n",
    "\n",
    "### 1. Problem Defenition\n",
    "\n",
    "> Given the required clinical data can we predict whether a person has heart disease or not\n",
    "\n",
    "### 2. DATA\n",
    "\n",
    "* refer UCI : https://archive.ics.uci.edu/ml/datasets/heart+Disease\n",
    "* refer Kaggle : https://www.kaggle.com/ronitf/heart-disease-uci\n",
    "\n",
    "We are going to user 14(Widely used) dataset out of 76(Original) attributes\n",
    "\n",
    "### 3. Evaluation\n",
    "\n",
    "> If we can get an accuracy of accuracy >= 95% .Then we can say it as a good model.\n",
    "\n",
    "### 4. Features\n",
    "\n",
    "*** Creating Data Dictionary ***\n",
    "\n",
    " \n",
    "#### Attributes (13) : (Independent variables)\n",
    "\n",
    "* age\n",
    "* sex\n",
    "* chest pain type (4 values)\n",
    "* resting blood pressure\n",
    "* serum cholestoral in mg/dl\n",
    "* fasting blood sugar > 120 mg/dl\n",
    "* resting electrocardiographic results (values 0,1,2)\n",
    "* maximum heart rate achieved\n",
    "* exercise induced angina\n",
    "* oldpeak = ST depression induced by exercise relative to rest\n",
    "* the slope of the peak exercise ST segment\n",
    "* number of major vessels (0-3) colored by flourosopy\n",
    "* thal: 3 = normal; 6 = fixed defect; 7 = reversable defect\n",
    "\n",
    "#### Final (1) : (Dependent on Attributes)\n",
    "\n",
    "* target (yes - 1 / no - 0)"
   ]
  },
  {
   "cell_type": "markdown",
   "id": "ac750ca7",
   "metadata": {
    "papermill": {
     "duration": 0.066826,
     "end_time": "2021-10-07T16:38:39.349023",
     "exception": false,
     "start_time": "2021-10-07T16:38:39.282197",
     "status": "completed"
    },
    "tags": []
   },
   "source": [
    "## Preparing the tools\n",
    "\n",
    "* pandas\n",
    "* numpy\n",
    "* seaborn\n",
    "* matplotlib\n",
    "\n",
    "for data analysis and manipulation\n",
    "\n",
    "* Regression\n",
    "* Classification\n",
    "\n",
    "Scikit-learn models\n",
    "\n",
    "* Spliting\n",
    "* Cross validation\n",
    "* Evaluation method libraries\n",
    " \n",
    "for evaluation \n"
   ]
  },
  {
   "cell_type": "code",
   "execution_count": 1,
   "id": "a4fe10e2",
   "metadata": {
    "execution": {
     "iopub.execute_input": "2021-10-07T16:38:39.486526Z",
     "iopub.status.busy": "2021-10-07T16:38:39.485400Z",
     "iopub.status.idle": "2021-10-07T16:38:40.723068Z",
     "shell.execute_reply": "2021-10-07T16:38:40.721710Z",
     "shell.execute_reply.started": "2021-10-07T16:35:57.047108Z"
    },
    "papermill": {
     "duration": 1.307586,
     "end_time": "2021-10-07T16:38:40.723248",
     "exception": false,
     "start_time": "2021-10-07T16:38:39.415662",
     "status": "completed"
    },
    "tags": []
   },
   "outputs": [],
   "source": [
    "# Data analysis libraries\n",
    "import pandas as pd\n",
    "import numpy as np\n",
    "import seaborn as sns\n",
    "# to make the plots appear in the notebook\n",
    "%matplotlib inline \n",
    "import matplotlib.pyplot as plt\n",
    "\n",
    "# Models from scikit-learn\n",
    "from sklearn.linear_model import LogisticRegression\n",
    "from sklearn.neighbors import KNeighborsClassifier\n",
    "from sklearn.ensemble import RandomForestClassifier\n",
    "\n",
    "# Model Evaluation\n",
    "from sklearn.model_selection import train_test_split, cross_val_score\n",
    "from sklearn.model_selection import RandomizedSearchCV, GridSearchCV\n",
    "from sklearn.metrics import confusion_matrix, classification_report\n",
    "from sklearn.metrics import precision_score, recall_score, f1_score\n",
    "from sklearn.metrics import plot_roc_curve\n"
   ]
  },
  {
   "cell_type": "markdown",
   "id": "eb90b8cd",
   "metadata": {
    "papermill": {
     "duration": 0.067614,
     "end_time": "2021-10-07T16:38:40.858028",
     "exception": false,
     "start_time": "2021-10-07T16:38:40.790414",
     "status": "completed"
    },
    "tags": []
   },
   "source": [
    "## Load the data"
   ]
  },
  {
   "cell_type": "code",
   "execution_count": 2,
   "id": "35ac0ccb",
   "metadata": {
    "execution": {
     "iopub.execute_input": "2021-10-07T16:38:40.997191Z",
     "iopub.status.busy": "2021-10-07T16:38:40.996543Z",
     "iopub.status.idle": "2021-10-07T16:38:41.037924Z",
     "shell.execute_reply": "2021-10-07T16:38:41.038408Z",
     "shell.execute_reply.started": "2021-10-07T16:35:57.504960Z"
    },
    "papermill": {
     "duration": 0.112586,
     "end_time": "2021-10-07T16:38:41.038586",
     "exception": false,
     "start_time": "2021-10-07T16:38:40.926000",
     "status": "completed"
    },
    "tags": []
   },
   "outputs": [
    {
     "data": {
      "text/html": [
       "<div>\n",
       "<style scoped>\n",
       "    .dataframe tbody tr th:only-of-type {\n",
       "        vertical-align: middle;\n",
       "    }\n",
       "\n",
       "    .dataframe tbody tr th {\n",
       "        vertical-align: top;\n",
       "    }\n",
       "\n",
       "    .dataframe thead th {\n",
       "        text-align: right;\n",
       "    }\n",
       "</style>\n",
       "<table border=\"1\" class=\"dataframe\">\n",
       "  <thead>\n",
       "    <tr style=\"text-align: right;\">\n",
       "      <th></th>\n",
       "      <th>age</th>\n",
       "      <th>sex</th>\n",
       "      <th>cp</th>\n",
       "      <th>trestbps</th>\n",
       "      <th>chol</th>\n",
       "      <th>fbs</th>\n",
       "      <th>restecg</th>\n",
       "      <th>thalach</th>\n",
       "      <th>exang</th>\n",
       "      <th>oldpeak</th>\n",
       "      <th>slope</th>\n",
       "      <th>ca</th>\n",
       "      <th>thal</th>\n",
       "      <th>target</th>\n",
       "    </tr>\n",
       "  </thead>\n",
       "  <tbody>\n",
       "    <tr>\n",
       "      <th>0</th>\n",
       "      <td>63</td>\n",
       "      <td>1</td>\n",
       "      <td>3</td>\n",
       "      <td>145</td>\n",
       "      <td>233</td>\n",
       "      <td>1</td>\n",
       "      <td>0</td>\n",
       "      <td>150</td>\n",
       "      <td>0</td>\n",
       "      <td>2.3</td>\n",
       "      <td>0</td>\n",
       "      <td>0</td>\n",
       "      <td>1</td>\n",
       "      <td>1</td>\n",
       "    </tr>\n",
       "    <tr>\n",
       "      <th>1</th>\n",
       "      <td>37</td>\n",
       "      <td>1</td>\n",
       "      <td>2</td>\n",
       "      <td>130</td>\n",
       "      <td>250</td>\n",
       "      <td>0</td>\n",
       "      <td>1</td>\n",
       "      <td>187</td>\n",
       "      <td>0</td>\n",
       "      <td>3.5</td>\n",
       "      <td>0</td>\n",
       "      <td>0</td>\n",
       "      <td>2</td>\n",
       "      <td>1</td>\n",
       "    </tr>\n",
       "    <tr>\n",
       "      <th>2</th>\n",
       "      <td>41</td>\n",
       "      <td>0</td>\n",
       "      <td>1</td>\n",
       "      <td>130</td>\n",
       "      <td>204</td>\n",
       "      <td>0</td>\n",
       "      <td>0</td>\n",
       "      <td>172</td>\n",
       "      <td>0</td>\n",
       "      <td>1.4</td>\n",
       "      <td>2</td>\n",
       "      <td>0</td>\n",
       "      <td>2</td>\n",
       "      <td>1</td>\n",
       "    </tr>\n",
       "    <tr>\n",
       "      <th>3</th>\n",
       "      <td>56</td>\n",
       "      <td>1</td>\n",
       "      <td>1</td>\n",
       "      <td>120</td>\n",
       "      <td>236</td>\n",
       "      <td>0</td>\n",
       "      <td>1</td>\n",
       "      <td>178</td>\n",
       "      <td>0</td>\n",
       "      <td>0.8</td>\n",
       "      <td>2</td>\n",
       "      <td>0</td>\n",
       "      <td>2</td>\n",
       "      <td>1</td>\n",
       "    </tr>\n",
       "    <tr>\n",
       "      <th>4</th>\n",
       "      <td>57</td>\n",
       "      <td>0</td>\n",
       "      <td>0</td>\n",
       "      <td>120</td>\n",
       "      <td>354</td>\n",
       "      <td>0</td>\n",
       "      <td>1</td>\n",
       "      <td>163</td>\n",
       "      <td>1</td>\n",
       "      <td>0.6</td>\n",
       "      <td>2</td>\n",
       "      <td>0</td>\n",
       "      <td>2</td>\n",
       "      <td>1</td>\n",
       "    </tr>\n",
       "    <tr>\n",
       "      <th>5</th>\n",
       "      <td>57</td>\n",
       "      <td>1</td>\n",
       "      <td>0</td>\n",
       "      <td>140</td>\n",
       "      <td>192</td>\n",
       "      <td>0</td>\n",
       "      <td>1</td>\n",
       "      <td>148</td>\n",
       "      <td>0</td>\n",
       "      <td>0.4</td>\n",
       "      <td>1</td>\n",
       "      <td>0</td>\n",
       "      <td>1</td>\n",
       "      <td>1</td>\n",
       "    </tr>\n",
       "    <tr>\n",
       "      <th>6</th>\n",
       "      <td>56</td>\n",
       "      <td>0</td>\n",
       "      <td>1</td>\n",
       "      <td>140</td>\n",
       "      <td>294</td>\n",
       "      <td>0</td>\n",
       "      <td>0</td>\n",
       "      <td>153</td>\n",
       "      <td>0</td>\n",
       "      <td>1.3</td>\n",
       "      <td>1</td>\n",
       "      <td>0</td>\n",
       "      <td>2</td>\n",
       "      <td>1</td>\n",
       "    </tr>\n",
       "    <tr>\n",
       "      <th>7</th>\n",
       "      <td>44</td>\n",
       "      <td>1</td>\n",
       "      <td>1</td>\n",
       "      <td>120</td>\n",
       "      <td>263</td>\n",
       "      <td>0</td>\n",
       "      <td>1</td>\n",
       "      <td>173</td>\n",
       "      <td>0</td>\n",
       "      <td>0.0</td>\n",
       "      <td>2</td>\n",
       "      <td>0</td>\n",
       "      <td>3</td>\n",
       "      <td>1</td>\n",
       "    </tr>\n",
       "    <tr>\n",
       "      <th>8</th>\n",
       "      <td>52</td>\n",
       "      <td>1</td>\n",
       "      <td>2</td>\n",
       "      <td>172</td>\n",
       "      <td>199</td>\n",
       "      <td>1</td>\n",
       "      <td>1</td>\n",
       "      <td>162</td>\n",
       "      <td>0</td>\n",
       "      <td>0.5</td>\n",
       "      <td>2</td>\n",
       "      <td>0</td>\n",
       "      <td>3</td>\n",
       "      <td>1</td>\n",
       "    </tr>\n",
       "    <tr>\n",
       "      <th>9</th>\n",
       "      <td>57</td>\n",
       "      <td>1</td>\n",
       "      <td>2</td>\n",
       "      <td>150</td>\n",
       "      <td>168</td>\n",
       "      <td>0</td>\n",
       "      <td>1</td>\n",
       "      <td>174</td>\n",
       "      <td>0</td>\n",
       "      <td>1.6</td>\n",
       "      <td>2</td>\n",
       "      <td>0</td>\n",
       "      <td>2</td>\n",
       "      <td>1</td>\n",
       "    </tr>\n",
       "  </tbody>\n",
       "</table>\n",
       "</div>"
      ],
      "text/plain": [
       "   age  sex  cp  trestbps  chol  fbs  restecg  thalach  exang  oldpeak  slope  \\\n",
       "0   63    1   3       145   233    1        0      150      0      2.3      0   \n",
       "1   37    1   2       130   250    0        1      187      0      3.5      0   \n",
       "2   41    0   1       130   204    0        0      172      0      1.4      2   \n",
       "3   56    1   1       120   236    0        1      178      0      0.8      2   \n",
       "4   57    0   0       120   354    0        1      163      1      0.6      2   \n",
       "5   57    1   0       140   192    0        1      148      0      0.4      1   \n",
       "6   56    0   1       140   294    0        0      153      0      1.3      1   \n",
       "7   44    1   1       120   263    0        1      173      0      0.0      2   \n",
       "8   52    1   2       172   199    1        1      162      0      0.5      2   \n",
       "9   57    1   2       150   168    0        1      174      0      1.6      2   \n",
       "\n",
       "   ca  thal  target  \n",
       "0   0     1       1  \n",
       "1   0     2       1  \n",
       "2   0     2       1  \n",
       "3   0     2       1  \n",
       "4   0     2       1  \n",
       "5   0     1       1  \n",
       "6   0     2       1  \n",
       "7   0     3       1  \n",
       "8   0     3       1  \n",
       "9   0     2       1  "
      ]
     },
     "execution_count": 2,
     "metadata": {},
     "output_type": "execute_result"
    }
   ],
   "source": [
    "\n",
    "heart_disease = pd.read_csv(\"/kaggle/input/heart-disease-uci/heart.csv\")\n",
    "\n",
    "# Displaying the first 10 data in the dataset\n",
    "heart_disease.head(10)"
   ]
  },
  {
   "cell_type": "markdown",
   "id": "1499f44b",
   "metadata": {
    "papermill": {
     "duration": 0.067423,
     "end_time": "2021-10-07T16:38:41.174199",
     "exception": false,
     "start_time": "2021-10-07T16:38:41.106776",
     "status": "completed"
    },
    "tags": []
   },
   "source": [
    "### Data Exploration\n",
    "The goal here is to gain more information from the data\n",
    "\n",
    "1. What are you trying to solve ?\n",
    "2. What kind of data we have and how to treat different types ?\n",
    "3. What is missing from the data and how to deal with it ?\n",
    "4. Where are the outliers and why should you care about them?\n",
    "5. How can you add, change or remove features to get more out of your data ?"
   ]
  },
  {
   "cell_type": "code",
   "execution_count": 3,
   "id": "d02036f1",
   "metadata": {
    "execution": {
     "iopub.execute_input": "2021-10-07T16:38:41.319916Z",
     "iopub.status.busy": "2021-10-07T16:38:41.319242Z",
     "iopub.status.idle": "2021-10-07T16:38:41.323682Z",
     "shell.execute_reply": "2021-10-07T16:38:41.324217Z",
     "shell.execute_reply.started": "2021-10-07T16:35:57.535802Z"
    },
    "papermill": {
     "duration": 0.082009,
     "end_time": "2021-10-07T16:38:41.324389",
     "exception": false,
     "start_time": "2021-10-07T16:38:41.242380",
     "status": "completed"
    },
    "tags": []
   },
   "outputs": [
    {
     "data": {
      "text/plain": [
       "1    165\n",
       "0    138\n",
       "Name: target, dtype: int64"
      ]
     },
     "execution_count": 3,
     "metadata": {},
     "output_type": "execute_result"
    }
   ],
   "source": [
    "# How many class we have\n",
    "heart_disease[\"target\"].value_counts()"
   ]
  },
  {
   "cell_type": "code",
   "execution_count": 4,
   "id": "7e1088b7",
   "metadata": {
    "execution": {
     "iopub.execute_input": "2021-10-07T16:38:41.463214Z",
     "iopub.status.busy": "2021-10-07T16:38:41.462623Z",
     "iopub.status.idle": "2021-10-07T16:38:41.696373Z",
     "shell.execute_reply": "2021-10-07T16:38:41.695850Z",
     "shell.execute_reply.started": "2021-10-07T16:35:57.548844Z"
    },
    "papermill": {
     "duration": 0.304418,
     "end_time": "2021-10-07T16:38:41.696506",
     "exception": false,
     "start_time": "2021-10-07T16:38:41.392088",
     "status": "completed"
    },
    "tags": []
   },
   "outputs": [
    {
     "data": {
      "image/png": "[encoded data removed]",
      "text/plain": [
       "<Figure size 432x288 with 1 Axes>"
      ]
     },
     "metadata": {
      "needs_background": "light"
     },
     "output_type": "display_data"
    }
   ],
   "source": [
    "heart_disease[\"target\"].value_counts().plot(kind = \"bar\", color = [\"red\",\"green\"]);"
   ]
  },
  {
   "cell_type": "code",
   "execution_count": 5,
   "id": "768f053f",
   "metadata": {
    "execution": {
     "iopub.execute_input": "2021-10-07T16:38:41.842421Z",
     "iopub.status.busy": "2021-10-07T16:38:41.841756Z",
     "iopub.status.idle": "2021-10-07T16:38:41.844334Z",
     "shell.execute_reply": "2021-10-07T16:38:41.844815Z",
     "shell.execute_reply.started": "2021-10-07T16:35:57.716553Z"
    },
    "papermill": {
     "duration": 0.079482,
     "end_time": "2021-10-07T16:38:41.844969",
     "exception": false,
     "start_time": "2021-10-07T16:38:41.765487",
     "status": "completed"
    },
    "tags": []
   },
   "outputs": [
    {
     "data": {
      "text/plain": [
       "age         0\n",
       "sex         0\n",
       "cp          0\n",
       "trestbps    0\n",
       "chol        0\n",
       "fbs         0\n",
       "restecg     0\n",
       "thalach     0\n",
       "exang       0\n",
       "oldpeak     0\n",
       "slope       0\n",
       "ca          0\n",
       "thal        0\n",
       "target      0\n",
       "dtype: int64"
      ]
     },
     "execution_count": 5,
     "metadata": {},
     "output_type": "execute_result"
    }
   ],
   "source": [
    "# Checking whether our data has any missing values\n",
    "heart_disease.isna().sum()"
   ]
  },
  {
   "cell_type": "markdown",
   "id": "d46df1fb",
   "metadata": {
    "papermill": {
     "duration": 0.068699,
     "end_time": "2021-10-07T16:38:41.982882",
     "exception": false,
     "start_time": "2021-10-07T16:38:41.914183",
     "status": "completed"
    },
    "tags": []
   },
   "source": [
    "we don't have any missing data here "
   ]
  },
  {
   "cell_type": "code",
   "execution_count": 6,
   "id": "36b064f4",
   "metadata": {
    "execution": {
     "iopub.execute_input": "2021-10-07T16:38:42.125059Z",
     "iopub.status.busy": "2021-10-07T16:38:42.124435Z",
     "iopub.status.idle": "2021-10-07T16:38:42.172866Z",
     "shell.execute_reply": "2021-10-07T16:38:42.173361Z",
     "shell.execute_reply.started": "2021-10-07T16:35:57.724754Z"
    },
    "papermill": {
     "duration": 0.121888,
     "end_time": "2021-10-07T16:38:42.173542",
     "exception": false,
     "start_time": "2021-10-07T16:38:42.051654",
     "status": "completed"
    },
    "tags": []
   },
   "outputs": [
    {
     "data": {
      "text/html": [
       "<div>\n",
       "<style scoped>\n",
       "    .dataframe tbody tr th:only-of-type {\n",
       "        vertical-align: middle;\n",
       "    }\n",
       "\n",
       "    .dataframe tbody tr th {\n",
       "        vertical-align: top;\n",
       "    }\n",
       "\n",
       "    .dataframe thead th {\n",
       "        text-align: right;\n",
       "    }\n",
       "</style>\n",
       "<table border=\"1\" class=\"dataframe\">\n",
       "  <thead>\n",
       "    <tr style=\"text-align: right;\">\n",
       "      <th></th>\n",
       "      <th>age</th>\n",
       "      <th>sex</th>\n",
       "      <th>cp</th>\n",
       "      <th>trestbps</th>\n",
       "      <th>chol</th>\n",
       "      <th>fbs</th>\n",
       "      <th>restecg</th>\n",
       "      <th>thalach</th>\n",
       "      <th>exang</th>\n",
       "      <th>oldpeak</th>\n",
       "      <th>slope</th>\n",
       "      <th>ca</th>\n",
       "      <th>thal</th>\n",
       "      <th>target</th>\n",
       "    </tr>\n",
       "  </thead>\n",
       "  <tbody>\n",
       "    <tr>\n",
       "      <th>count</th>\n",
       "      <td>303.000000</td>\n",
       "      <td>303.000000</td>\n",
       "      <td>303.000000</td>\n",
       "      <td>303.000000</td>\n",
       "      <td>303.000000</td>\n",
       "      <td>303.000000</td>\n",
       "      <td>303.000000</td>\n",
       "      <td>303.000000</td>\n",
       "      <td>303.000000</td>\n",
       "      <td>303.000000</td>\n",
       "      <td>303.000000</td>\n",
       "      <td>303.000000</td>\n",
       "      <td>303.000000</td>\n",
       "      <td>303.000000</td>\n",
       "    </tr>\n",
       "    <tr>\n",
       "      <th>mean</th>\n",
       "      <td>54.366337</td>\n",
       "      <td>0.683168</td>\n",
       "      <td>0.966997</td>\n",
       "      <td>131.623762</td>\n",
       "      <td>246.264026</td>\n",
       "      <td>0.148515</td>\n",
       "      <td>0.528053</td>\n",
       "      <td>149.646865</td>\n",
       "      <td>0.326733</td>\n",
       "      <td>1.039604</td>\n",
       "      <td>1.399340</td>\n",
       "      <td>0.729373</td>\n",
       "      <td>2.313531</td>\n",
       "      <td>0.544554</td>\n",
       "    </tr>\n",
       "    <tr>\n",
       "      <th>std</th>\n",
       "      <td>9.082101</td>\n",
       "      <td>0.466011</td>\n",
       "      <td>1.032052</td>\n",
       "      <td>17.538143</td>\n",
       "      <td>51.830751</td>\n",
       "      <td>0.356198</td>\n",
       "      <td>0.525860</td>\n",
       "      <td>22.905161</td>\n",
       "      <td>0.469794</td>\n",
       "      <td>1.161075</td>\n",
       "      <td>0.616226</td>\n",
       "      <td>1.022606</td>\n",
       "      <td>0.612277</td>\n",
       "      <td>0.498835</td>\n",
       "    </tr>\n",
       "    <tr>\n",
       "      <th>min</th>\n",
       "      <td>29.000000</td>\n",
       "      <td>0.000000</td>\n",
       "      <td>0.000000</td>\n",
       "      <td>94.000000</td>\n",
       "      <td>126.000000</td>\n",
       "      <td>0.000000</td>\n",
       "      <td>0.000000</td>\n",
       "      <td>71.000000</td>\n",
       "      <td>0.000000</td>\n",
       "      <td>0.000000</td>\n",
       "      <td>0.000000</td>\n",
       "      <td>0.000000</td>\n",
       "      <td>0.000000</td>\n",
       "      <td>0.000000</td>\n",
       "    </tr>\n",
       "    <tr>\n",
       "      <th>25%</th>\n",
       "      <td>47.500000</td>\n",
       "      <td>0.000000</td>\n",
       "      <td>0.000000</td>\n",
       "      <td>120.000000</td>\n",
       "      <td>211.000000</td>\n",
       "      <td>0.000000</td>\n",
       "      <td>0.000000</td>\n",
       "      <td>133.500000</td>\n",
       "      <td>0.000000</td>\n",
       "      <td>0.000000</td>\n",
       "      <td>1.000000</td>\n",
       "      <td>0.000000</td>\n",
       "      <td>2.000000</td>\n",
       "      <td>0.000000</td>\n",
       "    </tr>\n",
       "    <tr>\n",
       "      <th>50%</th>\n",
       "      <td>55.000000</td>\n",
       "      <td>1.000000</td>\n",
       "      <td>1.000000</td>\n",
       "      <td>130.000000</td>\n",
       "      <td>240.000000</td>\n",
       "      <td>0.000000</td>\n",
       "      <td>1.000000</td>\n",
       "      <td>153.000000</td>\n",
       "      <td>0.000000</td>\n",
       "      <td>0.800000</td>\n",
       "      <td>1.000000</td>\n",
       "      <td>0.000000</td>\n",
       "      <td>2.000000</td>\n",
       "      <td>1.000000</td>\n",
       "    </tr>\n",
       "    <tr>\n",
       "      <th>75%</th>\n",
       "      <td>61.000000</td>\n",
       "      <td>1.000000</td>\n",
       "      <td>2.000000</td>\n",
       "      <td>140.000000</td>\n",
       "      <td>274.500000</td>\n",
       "      <td>0.000000</td>\n",
       "      <td>1.000000</td>\n",
       "      <td>166.000000</td>\n",
       "      <td>1.000000</td>\n",
       "      <td>1.600000</td>\n",
       "      <td>2.000000</td>\n",
       "      <td>1.000000</td>\n",
       "      <td>3.000000</td>\n",
       "      <td>1.000000</td>\n",
       "    </tr>\n",
       "    <tr>\n",
       "      <th>max</th>\n",
       "      <td>77.000000</td>\n",
       "      <td>1.000000</td>\n",
       "      <td>3.000000</td>\n",
       "      <td>200.000000</td>\n",
       "      <td>564.000000</td>\n",
       "      <td>1.000000</td>\n",
       "      <td>2.000000</td>\n",
       "      <td>202.000000</td>\n",
       "      <td>1.000000</td>\n",
       "      <td>6.200000</td>\n",
       "      <td>2.000000</td>\n",
       "      <td>4.000000</td>\n",
       "      <td>3.000000</td>\n",
       "      <td>1.000000</td>\n",
       "    </tr>\n",
       "  </tbody>\n",
       "</table>\n",
       "</div>"
      ],
      "text/plain": [
       "              age         sex          cp    trestbps        chol         fbs  \\\n",
       "count  303.000000  303.000000  303.000000  303.000000  303.000000  303.000000   \n",
       "mean    54.366337    0.683168    0.966997  131.623762  246.264026    0.148515   \n",
       "std      9.082101    0.466011    1.032052   17.538143   51.830751    0.356198   \n",
       "min     29.000000    0.000000    0.000000   94.000000  126.000000    0.000000   \n",
       "25%     47.500000    0.000000    0.000000  120.000000  211.000000    0.000000   \n",
       "50%     55.000000    1.000000    1.000000  130.000000  240.000000    0.000000   \n",
       "75%     61.000000    1.000000    2.000000  140.000000  274.500000    0.000000   \n",
       "max     77.000000    1.000000    3.000000  200.000000  564.000000    1.000000   \n",
       "\n",
       "          restecg     thalach       exang     oldpeak       slope          ca  \\\n",
       "count  303.000000  303.000000  303.000000  303.000000  303.000000  303.000000   \n",
       "mean     0.528053  149.646865    0.326733    1.039604    1.399340    0.729373   \n",
       "std      0.525860   22.905161    0.469794    1.161075    0.616226    1.022606   \n",
       "min      0.000000   71.000000    0.000000    0.000000    0.000000    0.000000   \n",
       "25%      0.000000  133.500000    0.000000    0.000000    1.000000    0.000000   \n",
       "50%      1.000000  153.000000    0.000000    0.800000    1.000000    0.000000   \n",
       "75%      1.000000  166.000000    1.000000    1.600000    2.000000    1.000000   \n",
       "max      2.000000  202.000000    1.000000    6.200000    2.000000    4.000000   \n",
       "\n",
       "             thal      target  \n",
       "count  303.000000  303.000000  \n",
       "mean     2.313531    0.544554  \n",
       "std      0.612277    0.498835  \n",
       "min      0.000000    0.000000  \n",
       "25%      2.000000    0.000000  \n",
       "50%      2.000000    1.000000  \n",
       "75%      3.000000    1.000000  \n",
       "max      3.000000    1.000000  "
      ]
     },
     "execution_count": 6,
     "metadata": {},
     "output_type": "execute_result"
    }
   ],
   "source": [
    "# Describing our data\n",
    "heart_disease.describe()"
   ]
  },
  {
   "cell_type": "markdown",
   "id": "5e42749d",
   "metadata": {
    "papermill": {
     "duration": 0.069215,
     "end_time": "2021-10-07T16:38:42.314807",
     "exception": false,
     "start_time": "2021-10-07T16:38:42.245592",
     "status": "completed"
    },
    "tags": []
   },
   "source": [
    "> [NOTE]: The upcoming steps can be performed with an attributes but here we are going to use some columns which gets our eyes"
   ]
  },
  {
   "cell_type": "markdown",
   "id": "70409499",
   "metadata": {
    "papermill": {
     "duration": 0.070558,
     "end_time": "2021-10-07T16:38:42.455477",
     "exception": false,
     "start_time": "2021-10-07T16:38:42.384919",
     "status": "completed"
    },
    "tags": []
   },
   "source": [
    "## Heart Disease Frequency VS Sex\n",
    "\n",
    "### SEX\n",
    "* 1 - MALE\n",
    "* 0 - FEMALE\n",
    "\n",
    "### Target\n",
    "* 1 - YES\n",
    "* 0 - NO"
   ]
  },
  {
   "cell_type": "code",
   "execution_count": 7,
   "id": "56dce359",
   "metadata": {
    "execution": {
     "iopub.execute_input": "2021-10-07T16:38:42.602357Z",
     "iopub.status.busy": "2021-10-07T16:38:42.601444Z",
     "iopub.status.idle": "2021-10-07T16:38:42.604701Z",
     "shell.execute_reply": "2021-10-07T16:38:42.605300Z",
     "shell.execute_reply.started": "2021-10-07T16:35:57.781251Z"
    },
    "papermill": {
     "duration": 0.079799,
     "end_time": "2021-10-07T16:38:42.605457",
     "exception": false,
     "start_time": "2021-10-07T16:38:42.525658",
     "status": "completed"
    },
    "tags": []
   },
   "outputs": [
    {
     "data": {
      "text/plain": [
       "1    207\n",
       "0     96\n",
       "Name: sex, dtype: int64"
      ]
     },
     "execution_count": 7,
     "metadata": {},
     "output_type": "execute_result"
    }
   ],
   "source": [
    "heart_disease.sex.value_counts()"
   ]
  },
  {
   "cell_type": "code",
   "execution_count": 8,
   "id": "0e8154cb",
   "metadata": {
    "execution": {
     "iopub.execute_input": "2021-10-07T16:38:42.749632Z",
     "iopub.status.busy": "2021-10-07T16:38:42.748691Z",
     "iopub.status.idle": "2021-10-07T16:38:42.775002Z",
     "shell.execute_reply": "2021-10-07T16:38:42.775471Z",
     "shell.execute_reply.started": "2021-10-07T16:35:57.790170Z"
    },
    "papermill": {
     "duration": 0.099708,
     "end_time": "2021-10-07T16:38:42.775651",
     "exception": false,
     "start_time": "2021-10-07T16:38:42.675943",
     "status": "completed"
    },
    "tags": []
   },
   "outputs": [
    {
     "data": {
      "text/html": [
       "<div>\n",
       "<style scoped>\n",
       "    .dataframe tbody tr th:only-of-type {\n",
       "        vertical-align: middle;\n",
       "    }\n",
       "\n",
       "    .dataframe tbody tr th {\n",
       "        vertical-align: top;\n",
       "    }\n",
       "\n",
       "    .dataframe thead th {\n",
       "        text-align: right;\n",
       "    }\n",
       "</style>\n",
       "<table border=\"1\" class=\"dataframe\">\n",
       "  <thead>\n",
       "    <tr style=\"text-align: right;\">\n",
       "      <th>sex</th>\n",
       "      <th>0</th>\n",
       "      <th>1</th>\n",
       "    </tr>\n",
       "    <tr>\n",
       "      <th>target</th>\n",
       "      <th></th>\n",
       "      <th></th>\n",
       "    </tr>\n",
       "  </thead>\n",
       "  <tbody>\n",
       "    <tr>\n",
       "      <th>0</th>\n",
       "      <td>24</td>\n",
       "      <td>114</td>\n",
       "    </tr>\n",
       "    <tr>\n",
       "      <th>1</th>\n",
       "      <td>72</td>\n",
       "      <td>93</td>\n",
       "    </tr>\n",
       "  </tbody>\n",
       "</table>\n",
       "</div>"
      ],
      "text/plain": [
       "sex      0    1\n",
       "target         \n",
       "0       24  114\n",
       "1       72   93"
      ]
     },
     "execution_count": 8,
     "metadata": {},
     "output_type": "execute_result"
    }
   ],
   "source": [
    "pd.crosstab(heart_disease.target,heart_disease.sex)"
   ]
  },
  {
   "cell_type": "markdown",
   "id": "160cd046",
   "metadata": {
    "papermill": {
     "duration": 0.071768,
     "end_time": "2021-10-07T16:38:42.917956",
     "exception": false,
     "start_time": "2021-10-07T16:38:42.846188",
     "status": "completed"
    },
    "tags": []
   },
   "source": [
    "this based on our present dataset it may be different in the real world"
   ]
  },
  {
   "cell_type": "code",
   "execution_count": 9,
   "id": "444b5a49",
   "metadata": {
    "execution": {
     "iopub.execute_input": "2021-10-07T16:38:43.064525Z",
     "iopub.status.busy": "2021-10-07T16:38:43.063886Z",
     "iopub.status.idle": "2021-10-07T16:38:43.256787Z",
     "shell.execute_reply": "2021-10-07T16:38:43.257265Z",
     "shell.execute_reply.started": "2021-10-07T16:35:57.814795Z"
    },
    "papermill": {
     "duration": 0.269691,
     "end_time": "2021-10-07T16:38:43.257421",
     "exception": false,
     "start_time": "2021-10-07T16:38:42.987730",
     "status": "completed"
    },
    "tags": []
   },
   "outputs": [
    {
     "data": {
      "image/png": "[encoded data removed]",
      "text/plain": [
       "<Figure size 720x432 with 1 Axes>"
      ]
     },
     "metadata": {
      "needs_background": "light"
     },
     "output_type": "display_data"
    }
   ],
   "source": [
    "# ploting the cross tab\n",
    "\n",
    "pd.crosstab(heart_disease.target,heart_disease.sex).plot(kind = \"bar\",\n",
    "                                                         figsize = (10,6),\n",
    "                                                         color=[\"hotpink\",\"blue\"]);\n",
    "plt.title(\"Heart Disease Frequency VS Sex\")\n",
    "plt.xlabel(\"1 - affected    0 - not affected\")\n",
    "plt.ylabel(\"no.of people\")\n",
    "plt.legend([\"Female\",\"Male\"]);"
   ]
  },
  {
   "cell_type": "markdown",
   "id": "e68b9b30",
   "metadata": {
    "papermill": {
     "duration": 0.072363,
     "end_time": "2021-10-07T16:38:43.401656",
     "exception": false,
     "start_time": "2021-10-07T16:38:43.329293",
     "status": "completed"
    },
    "tags": []
   },
   "source": [
    "### Max heart rate(thalach)  VS  Age for heart disease"
   ]
  },
  {
   "cell_type": "code",
   "execution_count": 10,
   "id": "654de62d",
   "metadata": {
    "execution": {
     "iopub.execute_input": "2021-10-07T16:38:43.552469Z",
     "iopub.status.busy": "2021-10-07T16:38:43.551835Z",
     "iopub.status.idle": "2021-10-07T16:38:43.554789Z",
     "shell.execute_reply": "2021-10-07T16:38:43.555225Z",
     "shell.execute_reply.started": "2021-10-07T16:35:58.073399Z"
    },
    "papermill": {
     "duration": 0.081386,
     "end_time": "2021-10-07T16:38:43.555379",
     "exception": false,
     "start_time": "2021-10-07T16:38:43.473993",
     "status": "completed"
    },
    "tags": []
   },
   "outputs": [
    {
     "data": {
      "text/plain": [
       "162    11\n",
       "160     9\n",
       "163     9\n",
       "152     8\n",
       "173     8\n",
       "       ..\n",
       "202     1\n",
       "184     1\n",
       "121     1\n",
       "192     1\n",
       "90      1\n",
       "Name: thalach, Length: 91, dtype: int64"
      ]
     },
     "execution_count": 10,
     "metadata": {},
     "output_type": "execute_result"
    }
   ],
   "source": [
    "heart_disease[\"thalach\"].value_counts()"
   ]
  },
  {
   "cell_type": "markdown",
   "id": "8f7e1893",
   "metadata": {
    "papermill": {
     "duration": 0.072325,
     "end_time": "2021-10-07T16:38:43.699416",
     "exception": false,
     "start_time": "2021-10-07T16:38:43.627091",
     "status": "completed"
    },
    "tags": []
   },
   "source": [
    "as the length is 91(91 differnt values) we cannot use bar graph "
   ]
  },
  {
   "cell_type": "code",
   "execution_count": 11,
   "id": "63740782",
   "metadata": {
    "execution": {
     "iopub.execute_input": "2021-10-07T16:38:43.846478Z",
     "iopub.status.busy": "2021-10-07T16:38:43.845824Z",
     "iopub.status.idle": "2021-10-07T16:38:44.216479Z",
     "shell.execute_reply": "2021-10-07T16:38:44.217006Z",
     "shell.execute_reply.started": "2021-10-07T16:35:58.084895Z"
    },
    "papermill": {
     "duration": 0.445843,
     "end_time": "2021-10-07T16:38:44.217169",
     "exception": false,
     "start_time": "2021-10-07T16:38:43.771326",
     "status": "completed"
    },
    "tags": []
   },
   "outputs": [
    {
     "data": {
      "image/png": "[encoded data removed]",
      "text/plain": [
       "<Figure size 720x432 with 1 Axes>"
      ]
     },
     "metadata": {
      "needs_background": "light"
     },
     "output_type": "display_data"
    }
   ],
   "source": [
    "# Scatter plot\n",
    "plt.figure(figsize = (10,6))\n",
    "\n",
    "# Scatter with positive examples\n",
    "plt.scatter(heart_disease.age[heart_disease.target == 1],\n",
    "            heart_disease.thalach[heart_disease.target == 1],\n",
    "            c=\"red\")\n",
    "\n",
    "#Scatter with negative examples\n",
    "plt.scatter(heart_disease.age[heart_disease.target == 0],\n",
    "            heart_disease.thalach[heart_disease.target == 0],\n",
    "            c=\"green\")\n",
    "\n",
    "# Labeling\n",
    "plt.title(\"Affected VS Not affected: AGE and MAX HEART RATE\")\n",
    "plt.xlabel(\"AGE\")\n",
    "plt.ylabel(\"HEART RATE\")\n",
    "plt.legend([\"Affected\",\"Not affected\"]);"
   ]
  },
  {
   "cell_type": "markdown",
   "id": "cfe63163",
   "metadata": {
    "papermill": {
     "duration": 0.074697,
     "end_time": "2021-10-07T16:38:44.365144",
     "exception": false,
     "start_time": "2021-10-07T16:38:44.290447",
     "status": "completed"
    },
    "tags": []
   },
   "source": [
    "As the finding the trend by ourself is dificult we will make the ML model to do the work for us"
   ]
  },
  {
   "cell_type": "code",
   "execution_count": 12,
   "id": "aa55f81c",
   "metadata": {
    "execution": {
     "iopub.execute_input": "2021-10-07T16:38:44.513969Z",
     "iopub.status.busy": "2021-10-07T16:38:44.513338Z",
     "iopub.status.idle": "2021-10-07T16:38:44.684026Z",
     "shell.execute_reply": "2021-10-07T16:38:44.684467Z",
     "shell.execute_reply.started": "2021-10-07T16:35:58.526046Z"
    },
    "papermill": {
     "duration": 0.247072,
     "end_time": "2021-10-07T16:38:44.684653",
     "exception": false,
     "start_time": "2021-10-07T16:38:44.437581",
     "status": "completed"
    },
    "tags": []
   },
   "outputs": [
    {
     "data": {
      "image/png": "[encoded data removed]",
      "text/plain": [
       "<Figure size 432x288 with 1 Axes>"
      ]
     },
     "metadata": {
      "needs_background": "light"
     },
     "output_type": "display_data"
    }
   ],
   "source": [
    "# Check how the data has been spread over\n",
    "heart_disease.age.plot.hist();"
   ]
  },
  {
   "cell_type": "markdown",
   "id": "b5e3aa3c",
   "metadata": {
    "papermill": {
     "duration": 0.073299,
     "end_time": "2021-10-07T16:38:44.831111",
     "exception": false,
     "start_time": "2021-10-07T16:38:44.757812",
     "status": "completed"
    },
    "tags": []
   },
   "source": [
    "A perfectly distributed data looks like : https://www.simplypsychology.org/normal-distribution.html"
   ]
  },
  {
   "cell_type": "markdown",
   "id": "1c853279",
   "metadata": {
    "papermill": {
     "duration": 0.073088,
     "end_time": "2021-10-07T16:38:44.978382",
     "exception": false,
     "start_time": "2021-10-07T16:38:44.905294",
     "status": "completed"
    },
    "tags": []
   },
   "source": [
    "Here we are looking for outliers but we dont have any here"
   ]
  },
  {
   "cell_type": "markdown",
   "id": "3284a7ed",
   "metadata": {
    "papermill": {
     "duration": 0.074379,
     "end_time": "2021-10-07T16:38:45.127083",
     "exception": false,
     "start_time": "2021-10-07T16:38:45.052704",
     "status": "completed"
    },
    "tags": []
   },
   "source": [
    "## Hear Disease vs Chest pain types\n",
    " Chest pain:\n",
    "* 0: Typical angina - related to heart\n",
    "* 1: Atypical angina - not related to heart\n",
    "* 2: Non-anginal - not related to heart\n",
    "* 3: Asymptomatic - not showing signs of disease"
   ]
  },
  {
   "cell_type": "code",
   "execution_count": 13,
   "id": "e5fbd36b",
   "metadata": {
    "execution": {
     "iopub.execute_input": "2021-10-07T16:38:45.277802Z",
     "iopub.status.busy": "2021-10-07T16:38:45.277102Z",
     "iopub.status.idle": "2021-10-07T16:38:45.293365Z",
     "shell.execute_reply": "2021-10-07T16:38:45.293868Z",
     "shell.execute_reply.started": "2021-10-07T16:35:58.768380Z"
    },
    "papermill": {
     "duration": 0.093007,
     "end_time": "2021-10-07T16:38:45.294033",
     "exception": false,
     "start_time": "2021-10-07T16:38:45.201026",
     "status": "completed"
    },
    "tags": []
   },
   "outputs": [
    {
     "data": {
      "text/html": [
       "<div>\n",
       "<style scoped>\n",
       "    .dataframe tbody tr th:only-of-type {\n",
       "        vertical-align: middle;\n",
       "    }\n",
       "\n",
       "    .dataframe tbody tr th {\n",
       "        vertical-align: top;\n",
       "    }\n",
       "\n",
       "    .dataframe thead th {\n",
       "        text-align: right;\n",
       "    }\n",
       "</style>\n",
       "<table border=\"1\" class=\"dataframe\">\n",
       "  <thead>\n",
       "    <tr style=\"text-align: right;\">\n",
       "      <th>target</th>\n",
       "      <th>0</th>\n",
       "      <th>1</th>\n",
       "    </tr>\n",
       "    <tr>\n",
       "      <th>cp</th>\n",
       "      <th></th>\n",
       "      <th></th>\n",
       "    </tr>\n",
       "  </thead>\n",
       "  <tbody>\n",
       "    <tr>\n",
       "      <th>0</th>\n",
       "      <td>104</td>\n",
       "      <td>39</td>\n",
       "    </tr>\n",
       "    <tr>\n",
       "      <th>1</th>\n",
       "      <td>9</td>\n",
       "      <td>41</td>\n",
       "    </tr>\n",
       "    <tr>\n",
       "      <th>2</th>\n",
       "      <td>18</td>\n",
       "      <td>69</td>\n",
       "    </tr>\n",
       "    <tr>\n",
       "      <th>3</th>\n",
       "      <td>7</td>\n",
       "      <td>16</td>\n",
       "    </tr>\n",
       "  </tbody>\n",
       "</table>\n",
       "</div>"
      ],
      "text/plain": [
       "target    0   1\n",
       "cp             \n",
       "0       104  39\n",
       "1         9  41\n",
       "2        18  69\n",
       "3         7  16"
      ]
     },
     "execution_count": 13,
     "metadata": {},
     "output_type": "execute_result"
    }
   ],
   "source": [
    "pd.crosstab(heart_disease.cp,heart_disease.target)"
   ]
  },
  {
   "cell_type": "code",
   "execution_count": 14,
   "id": "3111864b",
   "metadata": {
    "execution": {
     "iopub.execute_input": "2021-10-07T16:38:45.445808Z",
     "iopub.status.busy": "2021-10-07T16:38:45.445130Z",
     "iopub.status.idle": "2021-10-07T16:38:45.658741Z",
     "shell.execute_reply": "2021-10-07T16:38:45.659224Z",
     "shell.execute_reply.started": "2021-10-07T16:35:58.795825Z"
    },
    "papermill": {
     "duration": 0.291542,
     "end_time": "2021-10-07T16:38:45.659385",
     "exception": false,
     "start_time": "2021-10-07T16:38:45.367843",
     "status": "completed"
    },
    "tags": []
   },
   "outputs": [
    {
     "data": {
      "image/png": "[encoded data removed]",
      "text/plain": [
       "<Figure size 720x432 with 1 Axes>"
      ]
     },
     "metadata": {
      "needs_background": "light"
     },
     "output_type": "display_data"
    }
   ],
   "source": [
    "# Plot the crosstab\n",
    "\n",
    "pd.crosstab(heart_disease.cp,heart_disease.target).plot(kind = \"bar\",\n",
    "                                                        figsize = (10,6),\n",
    "                                                        color = [\"green\",\"red\"])\n",
    "\n",
    "plt.title(\"Heart disease frequency for different chest pain\")\n",
    "plt.xlabel(\"Chest pain type\")\n",
    "plt.ylabel(\"Frequency\")\n",
    "plt.legend([\"No Disease\",\"Disease\"]);"
   ]
  },
  {
   "cell_type": "markdown",
   "id": "d2362567",
   "metadata": {
    "papermill": {
     "duration": 0.074311,
     "end_time": "2021-10-07T16:38:45.808313",
     "exception": false,
     "start_time": "2021-10-07T16:38:45.734002",
     "status": "completed"
    },
    "tags": []
   },
   "source": [
    "## Correlation between the Attributes and the target"
   ]
  },
  {
   "cell_type": "code",
   "execution_count": 15,
   "id": "f8af8dac",
   "metadata": {
    "execution": {
     "iopub.execute_input": "2021-10-07T16:38:45.961864Z",
     "iopub.status.busy": "2021-10-07T16:38:45.961145Z",
     "iopub.status.idle": "2021-10-07T16:38:45.983367Z",
     "shell.execute_reply": "2021-10-07T16:38:45.983917Z",
     "shell.execute_reply.started": "2021-10-07T16:35:59.074330Z"
    },
    "papermill": {
     "duration": 0.100177,
     "end_time": "2021-10-07T16:38:45.984088",
     "exception": false,
     "start_time": "2021-10-07T16:38:45.883911",
     "status": "completed"
    },
    "tags": []
   },
   "outputs": [
    {
     "data": {
      "text/html": [
       "<div>\n",
       "<style scoped>\n",
       "    .dataframe tbody tr th:only-of-type {\n",
       "        vertical-align: middle;\n",
       "    }\n",
       "\n",
       "    .dataframe tbody tr th {\n",
       "        vertical-align: top;\n",
       "    }\n",
       "\n",
       "    .dataframe thead th {\n",
       "        text-align: right;\n",
       "    }\n",
       "</style>\n",
       "<table border=\"1\" class=\"dataframe\">\n",
       "  <thead>\n",
       "    <tr style=\"text-align: right;\">\n",
       "      <th></th>\n",
       "      <th>age</th>\n",
       "      <th>sex</th>\n",
       "      <th>cp</th>\n",
       "      <th>trestbps</th>\n",
       "      <th>chol</th>\n",
       "      <th>fbs</th>\n",
       "      <th>restecg</th>\n",
       "      <th>thalach</th>\n",
       "      <th>exang</th>\n",
       "      <th>oldpeak</th>\n",
       "      <th>slope</th>\n",
       "      <th>ca</th>\n",
       "      <th>thal</th>\n",
       "      <th>target</th>\n",
       "    </tr>\n",
       "  </thead>\n",
       "  <tbody>\n",
       "    <tr>\n",
       "      <th>age</th>\n",
       "      <td>1.000000</td>\n",
       "      <td>-0.098447</td>\n",
       "      <td>-0.068653</td>\n",
       "      <td>0.279351</td>\n",
       "      <td>0.213678</td>\n",
       "      <td>0.121308</td>\n",
       "      <td>-0.116211</td>\n",
       "      <td>-0.398522</td>\n",
       "      <td>0.096801</td>\n",
       "      <td>0.210013</td>\n",
       "      <td>-0.168814</td>\n",
       "      <td>0.276326</td>\n",
       "      <td>0.068001</td>\n",
       "      <td>-0.225439</td>\n",
       "    </tr>\n",
       "    <tr>\n",
       "      <th>sex</th>\n",
       "      <td>-0.098447</td>\n",
       "      <td>1.000000</td>\n",
       "      <td>-0.049353</td>\n",
       "      <td>-0.056769</td>\n",
       "      <td>-0.197912</td>\n",
       "      <td>0.045032</td>\n",
       "      <td>-0.058196</td>\n",
       "      <td>-0.044020</td>\n",
       "      <td>0.141664</td>\n",
       "      <td>0.096093</td>\n",
       "      <td>-0.030711</td>\n",
       "      <td>0.118261</td>\n",
       "      <td>0.210041</td>\n",
       "      <td>-0.280937</td>\n",
       "    </tr>\n",
       "    <tr>\n",
       "      <th>cp</th>\n",
       "      <td>-0.068653</td>\n",
       "      <td>-0.049353</td>\n",
       "      <td>1.000000</td>\n",
       "      <td>0.047608</td>\n",
       "      <td>-0.076904</td>\n",
       "      <td>0.094444</td>\n",
       "      <td>0.044421</td>\n",
       "      <td>0.295762</td>\n",
       "      <td>-0.394280</td>\n",
       "      <td>-0.149230</td>\n",
       "      <td>0.119717</td>\n",
       "      <td>-0.181053</td>\n",
       "      <td>-0.161736</td>\n",
       "      <td>0.433798</td>\n",
       "    </tr>\n",
       "    <tr>\n",
       "      <th>trestbps</th>\n",
       "      <td>0.279351</td>\n",
       "      <td>-0.056769</td>\n",
       "      <td>0.047608</td>\n",
       "      <td>1.000000</td>\n",
       "      <td>0.123174</td>\n",
       "      <td>0.177531</td>\n",
       "      <td>-0.114103</td>\n",
       "      <td>-0.046698</td>\n",
       "      <td>0.067616</td>\n",
       "      <td>0.193216</td>\n",
       "      <td>-0.121475</td>\n",
       "      <td>0.101389</td>\n",
       "      <td>0.062210</td>\n",
       "      <td>-0.144931</td>\n",
       "    </tr>\n",
       "    <tr>\n",
       "      <th>chol</th>\n",
       "      <td>0.213678</td>\n",
       "      <td>-0.197912</td>\n",
       "      <td>-0.076904</td>\n",
       "      <td>0.123174</td>\n",
       "      <td>1.000000</td>\n",
       "      <td>0.013294</td>\n",
       "      <td>-0.151040</td>\n",
       "      <td>-0.009940</td>\n",
       "      <td>0.067023</td>\n",
       "      <td>0.053952</td>\n",
       "      <td>-0.004038</td>\n",
       "      <td>0.070511</td>\n",
       "      <td>0.098803</td>\n",
       "      <td>-0.085239</td>\n",
       "    </tr>\n",
       "    <tr>\n",
       "      <th>fbs</th>\n",
       "      <td>0.121308</td>\n",
       "      <td>0.045032</td>\n",
       "      <td>0.094444</td>\n",
       "      <td>0.177531</td>\n",
       "      <td>0.013294</td>\n",
       "      <td>1.000000</td>\n",
       "      <td>-0.084189</td>\n",
       "      <td>-0.008567</td>\n",
       "      <td>0.025665</td>\n",
       "      <td>0.005747</td>\n",
       "      <td>-0.059894</td>\n",
       "      <td>0.137979</td>\n",
       "      <td>-0.032019</td>\n",
       "      <td>-0.028046</td>\n",
       "    </tr>\n",
       "    <tr>\n",
       "      <th>restecg</th>\n",
       "      <td>-0.116211</td>\n",
       "      <td>-0.058196</td>\n",
       "      <td>0.044421</td>\n",
       "      <td>-0.114103</td>\n",
       "      <td>-0.151040</td>\n",
       "      <td>-0.084189</td>\n",
       "      <td>1.000000</td>\n",
       "      <td>0.044123</td>\n",
       "      <td>-0.070733</td>\n",
       "      <td>-0.058770</td>\n",
       "      <td>0.093045</td>\n",
       "      <td>-0.072042</td>\n",
       "      <td>-0.011981</td>\n",
       "      <td>0.137230</td>\n",
       "    </tr>\n",
       "    <tr>\n",
       "      <th>thalach</th>\n",
       "      <td>-0.398522</td>\n",
       "      <td>-0.044020</td>\n",
       "      <td>0.295762</td>\n",
       "      <td>-0.046698</td>\n",
       "      <td>-0.009940</td>\n",
       "      <td>-0.008567</td>\n",
       "      <td>0.044123</td>\n",
       "      <td>1.000000</td>\n",
       "      <td>-0.378812</td>\n",
       "      <td>-0.344187</td>\n",
       "      <td>0.386784</td>\n",
       "      <td>-0.213177</td>\n",
       "      <td>-0.096439</td>\n",
       "      <td>0.421741</td>\n",
       "    </tr>\n",
       "    <tr>\n",
       "      <th>exang</th>\n",
       "      <td>0.096801</td>\n",
       "      <td>0.141664</td>\n",
       "      <td>-0.394280</td>\n",
       "      <td>0.067616</td>\n",
       "      <td>0.067023</td>\n",
       "      <td>0.025665</td>\n",
       "      <td>-0.070733</td>\n",
       "      <td>-0.378812</td>\n",
       "      <td>1.000000</td>\n",
       "      <td>0.288223</td>\n",
       "      <td>-0.257748</td>\n",
       "      <td>0.115739</td>\n",
       "      <td>0.206754</td>\n",
       "      <td>-0.436757</td>\n",
       "    </tr>\n",
       "    <tr>\n",
       "      <th>oldpeak</th>\n",
       "      <td>0.210013</td>\n",
       "      <td>0.096093</td>\n",
       "      <td>-0.149230</td>\n",
       "      <td>0.193216</td>\n",
       "      <td>0.053952</td>\n",
       "      <td>0.005747</td>\n",
       "      <td>-0.058770</td>\n",
       "      <td>-0.344187</td>\n",
       "      <td>0.288223</td>\n",
       "      <td>1.000000</td>\n",
       "      <td>-0.577537</td>\n",
       "      <td>0.222682</td>\n",
       "      <td>0.210244</td>\n",
       "      <td>-0.430696</td>\n",
       "    </tr>\n",
       "    <tr>\n",
       "      <th>slope</th>\n",
       "      <td>-0.168814</td>\n",
       "      <td>-0.030711</td>\n",
       "      <td>0.119717</td>\n",
       "      <td>-0.121475</td>\n",
       "      <td>-0.004038</td>\n",
       "      <td>-0.059894</td>\n",
       "      <td>0.093045</td>\n",
       "      <td>0.386784</td>\n",
       "      <td>-0.257748</td>\n",
       "      <td>-0.577537</td>\n",
       "      <td>1.000000</td>\n",
       "      <td>-0.080155</td>\n",
       "      <td>-0.104764</td>\n",
       "      <td>0.345877</td>\n",
       "    </tr>\n",
       "    <tr>\n",
       "      <th>ca</th>\n",
       "      <td>0.276326</td>\n",
       "      <td>0.118261</td>\n",
       "      <td>-0.181053</td>\n",
       "      <td>0.101389</td>\n",
       "      <td>0.070511</td>\n",
       "      <td>0.137979</td>\n",
       "      <td>-0.072042</td>\n",
       "      <td>-0.213177</td>\n",
       "      <td>0.115739</td>\n",
       "      <td>0.222682</td>\n",
       "      <td>-0.080155</td>\n",
       "      <td>1.000000</td>\n",
       "      <td>0.151832</td>\n",
       "      <td>-0.391724</td>\n",
       "    </tr>\n",
       "    <tr>\n",
       "      <th>thal</th>\n",
       "      <td>0.068001</td>\n",
       "      <td>0.210041</td>\n",
       "      <td>-0.161736</td>\n",
       "      <td>0.062210</td>\n",
       "      <td>0.098803</td>\n",
       "      <td>-0.032019</td>\n",
       "      <td>-0.011981</td>\n",
       "      <td>-0.096439</td>\n",
       "      <td>0.206754</td>\n",
       "      <td>0.210244</td>\n",
       "      <td>-0.104764</td>\n",
       "      <td>0.151832</td>\n",
       "      <td>1.000000</td>\n",
       "      <td>-0.344029</td>\n",
       "    </tr>\n",
       "    <tr>\n",
       "      <th>target</th>\n",
       "      <td>-0.225439</td>\n",
       "      <td>-0.280937</td>\n",
       "      <td>0.433798</td>\n",
       "      <td>-0.144931</td>\n",
       "      <td>-0.085239</td>\n",
       "      <td>-0.028046</td>\n",
       "      <td>0.137230</td>\n",
       "      <td>0.421741</td>\n",
       "      <td>-0.436757</td>\n",
       "      <td>-0.430696</td>\n",
       "      <td>0.345877</td>\n",
       "      <td>-0.391724</td>\n",
       "      <td>-0.344029</td>\n",
       "      <td>1.000000</td>\n",
       "    </tr>\n",
       "  </tbody>\n",
       "</table>\n",
       "</div>"
      ],
      "text/plain": [
       "               age       sex        cp  trestbps      chol       fbs  \\\n",
       "age       1.000000 -0.098447 -0.068653  0.279351  0.213678  0.121308   \n",
       "sex      -0.098447  1.000000 -0.049353 -0.056769 -0.197912  0.045032   \n",
       "cp       -0.068653 -0.049353  1.000000  0.047608 -0.076904  0.094444   \n",
       "trestbps  0.279351 -0.056769  0.047608  1.000000  0.123174  0.177531   \n",
       "chol      0.213678 -0.197912 -0.076904  0.123174  1.000000  0.013294   \n",
       "fbs       0.121308  0.045032  0.094444  0.177531  0.013294  1.000000   \n",
       "restecg  -0.116211 -0.058196  0.044421 -0.114103 -0.151040 -0.084189   \n",
       "thalach  -0.398522 -0.044020  0.295762 -0.046698 -0.009940 -0.008567   \n",
       "exang     0.096801  0.141664 -0.394280  0.067616  0.067023  0.025665   \n",
       "oldpeak   0.210013  0.096093 -0.149230  0.193216  0.053952  0.005747   \n",
       "slope    -0.168814 -0.030711  0.119717 -0.121475 -0.004038 -0.059894   \n",
       "ca        0.276326  0.118261 -0.181053  0.101389  0.070511  0.137979   \n",
       "thal      0.068001  0.210041 -0.161736  0.062210  0.098803 -0.032019   \n",
       "target   -0.225439 -0.280937  0.433798 -0.144931 -0.085239 -0.028046   \n",
       "\n",
       "           restecg   thalach     exang   oldpeak     slope        ca  \\\n",
       "age      -0.116211 -0.398522  0.096801  0.210013 -0.168814  0.276326   \n",
       "sex      -0.058196 -0.044020  0.141664  0.096093 -0.030711  0.118261   \n",
       "cp        0.044421  0.295762 -0.394280 -0.149230  0.119717 -0.181053   \n",
       "trestbps -0.114103 -0.046698  0.067616  0.193216 -0.121475  0.101389   \n",
       "chol     -0.151040 -0.009940  0.067023  0.053952 -0.004038  0.070511   \n",
       "fbs      -0.084189 -0.008567  0.025665  0.005747 -0.059894  0.137979   \n",
       "restecg   1.000000  0.044123 -0.070733 -0.058770  0.093045 -0.072042   \n",
       "thalach   0.044123  1.000000 -0.378812 -0.344187  0.386784 -0.213177   \n",
       "exang    -0.070733 -0.378812  1.000000  0.288223 -0.257748  0.115739   \n",
       "oldpeak  -0.058770 -0.344187  0.288223  1.000000 -0.577537  0.222682   \n",
       "slope     0.093045  0.386784 -0.257748 -0.577537  1.000000 -0.080155   \n",
       "ca       -0.072042 -0.213177  0.115739  0.222682 -0.080155  1.000000   \n",
       "thal     -0.011981 -0.096439  0.206754  0.210244 -0.104764  0.151832   \n",
       "target    0.137230  0.421741 -0.436757 -0.430696  0.345877 -0.391724   \n",
       "\n",
       "              thal    target  \n",
       "age       0.068001 -0.225439  \n",
       "sex       0.210041 -0.280937  \n",
       "cp       -0.161736  0.433798  \n",
       "trestbps  0.062210 -0.144931  \n",
       "chol      0.098803 -0.085239  \n",
       "fbs      -0.032019 -0.028046  \n",
       "restecg  -0.011981  0.137230  \n",
       "thalach  -0.096439  0.421741  \n",
       "exang     0.206754 -0.436757  \n",
       "oldpeak   0.210244 -0.430696  \n",
       "slope    -0.104764  0.345877  \n",
       "ca        0.151832 -0.391724  \n",
       "thal      1.000000 -0.344029  \n",
       "target   -0.344029  1.000000  "
      ]
     },
     "execution_count": 15,
     "metadata": {},
     "output_type": "execute_result"
    }
   ],
   "source": [
    "# Tabular format\n",
    "heart_disease.corr()"
   ]
  },
  {
   "cell_type": "code",
   "execution_count": 16,
   "id": "fcf3baa2",
   "metadata": {
    "execution": {
     "iopub.execute_input": "2021-10-07T16:38:46.142085Z",
     "iopub.status.busy": "2021-10-07T16:38:46.141403Z",
     "iopub.status.idle": "2021-10-07T16:38:47.432814Z",
     "shell.execute_reply": "2021-10-07T16:38:47.433301Z",
     "shell.execute_reply.started": "2021-10-07T16:35:59.104214Z"
    },
    "papermill": {
     "duration": 1.372021,
     "end_time": "2021-10-07T16:38:47.433471",
     "exception": false,
     "start_time": "2021-10-07T16:38:46.061450",
     "status": "completed"
    },
    "tags": []
   },
   "outputs": [
    {
     "data": {
      "image/png": "[encoded data removed]",
      "text/plain": [
       "<Figure size 1080x720 with 2 Axes>"
      ]
     },
     "metadata": {
      "needs_background": "light"
     },
     "output_type": "display_data"
    }
   ],
   "source": [
    "# Visual format\n",
    "corr_mat = heart_disease.corr()\n",
    "fig, ax = plt.subplots(figsize = (15,10))\n",
    "ax = sns.heatmap(corr_mat,\n",
    "                 annot=True,\n",
    "                 linewidths=0.5,\n",
    "                 fmt=\".2f\",\n",
    "                 cmap=\"YlGnBu\")"
   ]
  },
  {
   "cell_type": "markdown",
   "id": "b4717c0f",
   "metadata": {
    "papermill": {
     "duration": 0.079123,
     "end_time": "2021-10-07T16:38:47.593948",
     "exception": false,
     "start_time": "2021-10-07T16:38:47.514825",
     "status": "completed"
    },
    "tags": []
   },
   "source": [
    "To know more about correlation : https://www.displayr.com/what-is-a-correlation-matrix/#:~:text=A%20correlation%20matrix%20is%20a,a%20diagnostic%20for%20advanced%20analyses."
   ]
  },
  {
   "cell_type": "markdown",
   "id": "7547cb51",
   "metadata": {
    "papermill": {
     "duration": 0.077976,
     "end_time": "2021-10-07T16:38:47.751883",
     "exception": false,
     "start_time": "2021-10-07T16:38:47.673907",
     "status": "completed"
    },
    "tags": []
   },
   "source": [
    "## Modeling \n",
    "* We have a classification problem\n",
    "\n",
    "To know more about Supervised data Classification VS Regression:https://www.google.com/search?q=classification+vs+regression&rlz=1C1ONGR_enIN973IN973&oq=classification+vs+&aqs=chrome.0.0i433i512j0i512j69i57j0i512l7.9790j1j15&sourceid=chrome&ie=UTF-8"
   ]
  },
  {
   "cell_type": "code",
   "execution_count": 17,
   "id": "08a6ec55",
   "metadata": {
    "execution": {
     "iopub.execute_input": "2021-10-07T16:38:47.914579Z",
     "iopub.status.busy": "2021-10-07T16:38:47.913943Z",
     "iopub.status.idle": "2021-10-07T16:38:47.918112Z",
     "shell.execute_reply": "2021-10-07T16:38:47.918541Z",
     "shell.execute_reply.started": "2021-10-07T16:36:00.484422Z"
    },
    "papermill": {
     "duration": 0.088213,
     "end_time": "2021-10-07T16:38:47.918736",
     "exception": false,
     "start_time": "2021-10-07T16:38:47.830523",
     "status": "completed"
    },
    "tags": []
   },
   "outputs": [],
   "source": [
    "# Splitting the data\n",
    "\n",
    "x = heart_disease.drop(\"target\",axis=1)\n",
    "y = heart_disease[\"target\"]"
   ]
  },
  {
   "cell_type": "markdown",
   "id": "81d5f657",
   "metadata": {
    "papermill": {
     "duration": 0.078655,
     "end_time": "2021-10-07T16:38:48.076597",
     "exception": false,
     "start_time": "2021-10-07T16:38:47.997942",
     "status": "completed"
    },
    "tags": []
   },
   "source": [
    "Visualizing X an Y"
   ]
  },
  {
   "cell_type": "code",
   "execution_count": 18,
   "id": "c382cfe6",
   "metadata": {
    "execution": {
     "iopub.execute_input": "2021-10-07T16:38:48.237150Z",
     "iopub.status.busy": "2021-10-07T16:38:48.236513Z",
     "iopub.status.idle": "2021-10-07T16:38:48.253893Z",
     "shell.execute_reply": "2021-10-07T16:38:48.253320Z",
     "shell.execute_reply.started": "2021-10-07T16:36:00.491593Z"
    },
    "papermill": {
     "duration": 0.098823,
     "end_time": "2021-10-07T16:38:48.254029",
     "exception": false,
     "start_time": "2021-10-07T16:38:48.155206",
     "status": "completed"
    },
    "tags": []
   },
   "outputs": [
    {
     "data": {
      "text/html": [
       "<div>\n",
       "<style scoped>\n",
       "    .dataframe tbody tr th:only-of-type {\n",
       "        vertical-align: middle;\n",
       "    }\n",
       "\n",
       "    .dataframe tbody tr th {\n",
       "        vertical-align: top;\n",
       "    }\n",
       "\n",
       "    .dataframe thead th {\n",
       "        text-align: right;\n",
       "    }\n",
       "</style>\n",
       "<table border=\"1\" class=\"dataframe\">\n",
       "  <thead>\n",
       "    <tr style=\"text-align: right;\">\n",
       "      <th></th>\n",
       "      <th>age</th>\n",
       "      <th>sex</th>\n",
       "      <th>cp</th>\n",
       "      <th>trestbps</th>\n",
       "      <th>chol</th>\n",
       "      <th>fbs</th>\n",
       "      <th>restecg</th>\n",
       "      <th>thalach</th>\n",
       "      <th>exang</th>\n",
       "      <th>oldpeak</th>\n",
       "      <th>slope</th>\n",
       "      <th>ca</th>\n",
       "      <th>thal</th>\n",
       "    </tr>\n",
       "  </thead>\n",
       "  <tbody>\n",
       "    <tr>\n",
       "      <th>0</th>\n",
       "      <td>63</td>\n",
       "      <td>1</td>\n",
       "      <td>3</td>\n",
       "      <td>145</td>\n",
       "      <td>233</td>\n",
       "      <td>1</td>\n",
       "      <td>0</td>\n",
       "      <td>150</td>\n",
       "      <td>0</td>\n",
       "      <td>2.3</td>\n",
       "      <td>0</td>\n",
       "      <td>0</td>\n",
       "      <td>1</td>\n",
       "    </tr>\n",
       "    <tr>\n",
       "      <th>1</th>\n",
       "      <td>37</td>\n",
       "      <td>1</td>\n",
       "      <td>2</td>\n",
       "      <td>130</td>\n",
       "      <td>250</td>\n",
       "      <td>0</td>\n",
       "      <td>1</td>\n",
       "      <td>187</td>\n",
       "      <td>0</td>\n",
       "      <td>3.5</td>\n",
       "      <td>0</td>\n",
       "      <td>0</td>\n",
       "      <td>2</td>\n",
       "    </tr>\n",
       "    <tr>\n",
       "      <th>2</th>\n",
       "      <td>41</td>\n",
       "      <td>0</td>\n",
       "      <td>1</td>\n",
       "      <td>130</td>\n",
       "      <td>204</td>\n",
       "      <td>0</td>\n",
       "      <td>0</td>\n",
       "      <td>172</td>\n",
       "      <td>0</td>\n",
       "      <td>1.4</td>\n",
       "      <td>2</td>\n",
       "      <td>0</td>\n",
       "      <td>2</td>\n",
       "    </tr>\n",
       "    <tr>\n",
       "      <th>3</th>\n",
       "      <td>56</td>\n",
       "      <td>1</td>\n",
       "      <td>1</td>\n",
       "      <td>120</td>\n",
       "      <td>236</td>\n",
       "      <td>0</td>\n",
       "      <td>1</td>\n",
       "      <td>178</td>\n",
       "      <td>0</td>\n",
       "      <td>0.8</td>\n",
       "      <td>2</td>\n",
       "      <td>0</td>\n",
       "      <td>2</td>\n",
       "    </tr>\n",
       "    <tr>\n",
       "      <th>4</th>\n",
       "      <td>57</td>\n",
       "      <td>0</td>\n",
       "      <td>0</td>\n",
       "      <td>120</td>\n",
       "      <td>354</td>\n",
       "      <td>0</td>\n",
       "      <td>1</td>\n",
       "      <td>163</td>\n",
       "      <td>1</td>\n",
       "      <td>0.6</td>\n",
       "      <td>2</td>\n",
       "      <td>0</td>\n",
       "      <td>2</td>\n",
       "    </tr>\n",
       "    <tr>\n",
       "      <th>...</th>\n",
       "      <td>...</td>\n",
       "      <td>...</td>\n",
       "      <td>...</td>\n",
       "      <td>...</td>\n",
       "      <td>...</td>\n",
       "      <td>...</td>\n",
       "      <td>...</td>\n",
       "      <td>...</td>\n",
       "      <td>...</td>\n",
       "      <td>...</td>\n",
       "      <td>...</td>\n",
       "      <td>...</td>\n",
       "      <td>...</td>\n",
       "    </tr>\n",
       "    <tr>\n",
       "      <th>298</th>\n",
       "      <td>57</td>\n",
       "      <td>0</td>\n",
       "      <td>0</td>\n",
       "      <td>140</td>\n",
       "      <td>241</td>\n",
       "      <td>0</td>\n",
       "      <td>1</td>\n",
       "      <td>123</td>\n",
       "      <td>1</td>\n",
       "      <td>0.2</td>\n",
       "      <td>1</td>\n",
       "      <td>0</td>\n",
       "      <td>3</td>\n",
       "    </tr>\n",
       "    <tr>\n",
       "      <th>299</th>\n",
       "      <td>45</td>\n",
       "      <td>1</td>\n",
       "      <td>3</td>\n",
       "      <td>110</td>\n",
       "      <td>264</td>\n",
       "      <td>0</td>\n",
       "      <td>1</td>\n",
       "      <td>132</td>\n",
       "      <td>0</td>\n",
       "      <td>1.2</td>\n",
       "      <td>1</td>\n",
       "      <td>0</td>\n",
       "      <td>3</td>\n",
       "    </tr>\n",
       "    <tr>\n",
       "      <th>300</th>\n",
       "      <td>68</td>\n",
       "      <td>1</td>\n",
       "      <td>0</td>\n",
       "      <td>144</td>\n",
       "      <td>193</td>\n",
       "      <td>1</td>\n",
       "      <td>1</td>\n",
       "      <td>141</td>\n",
       "      <td>0</td>\n",
       "      <td>3.4</td>\n",
       "      <td>1</td>\n",
       "      <td>2</td>\n",
       "      <td>3</td>\n",
       "    </tr>\n",
       "    <tr>\n",
       "      <th>301</th>\n",
       "      <td>57</td>\n",
       "      <td>1</td>\n",
       "      <td>0</td>\n",
       "      <td>130</td>\n",
       "      <td>131</td>\n",
       "      <td>0</td>\n",
       "      <td>1</td>\n",
       "      <td>115</td>\n",
       "      <td>1</td>\n",
       "      <td>1.2</td>\n",
       "      <td>1</td>\n",
       "      <td>1</td>\n",
       "      <td>3</td>\n",
       "    </tr>\n",
       "    <tr>\n",
       "      <th>302</th>\n",
       "      <td>57</td>\n",
       "      <td>0</td>\n",
       "      <td>1</td>\n",
       "      <td>130</td>\n",
       "      <td>236</td>\n",
       "      <td>0</td>\n",
       "      <td>0</td>\n",
       "      <td>174</td>\n",
       "      <td>0</td>\n",
       "      <td>0.0</td>\n",
       "      <td>1</td>\n",
       "      <td>1</td>\n",
       "      <td>2</td>\n",
       "    </tr>\n",
       "  </tbody>\n",
       "</table>\n",
       "<p>303 rows × 13 columns</p>\n",
       "</div>"
      ],
      "text/plain": [
       "     age  sex  cp  trestbps  chol  fbs  restecg  thalach  exang  oldpeak  \\\n",
       "0     63    1   3       145   233    1        0      150      0      2.3   \n",
       "1     37    1   2       130   250    0        1      187      0      3.5   \n",
       "2     41    0   1       130   204    0        0      172      0      1.4   \n",
       "3     56    1   1       120   236    0        1      178      0      0.8   \n",
       "4     57    0   0       120   354    0        1      163      1      0.6   \n",
       "..   ...  ...  ..       ...   ...  ...      ...      ...    ...      ...   \n",
       "298   57    0   0       140   241    0        1      123      1      0.2   \n",
       "299   45    1   3       110   264    0        1      132      0      1.2   \n",
       "300   68    1   0       144   193    1        1      141      0      3.4   \n",
       "301   57    1   0       130   131    0        1      115      1      1.2   \n",
       "302   57    0   1       130   236    0        0      174      0      0.0   \n",
       "\n",
       "     slope  ca  thal  \n",
       "0        0   0     1  \n",
       "1        0   0     2  \n",
       "2        2   0     2  \n",
       "3        2   0     2  \n",
       "4        2   0     2  \n",
       "..     ...  ..   ...  \n",
       "298      1   0     3  \n",
       "299      1   0     3  \n",
       "300      1   2     3  \n",
       "301      1   1     3  \n",
       "302      1   1     2  \n",
       "\n",
       "[303 rows x 13 columns]"
      ]
     },
     "execution_count": 18,
     "metadata": {},
     "output_type": "execute_result"
    }
   ],
   "source": [
    "x"
   ]
  },
  {
   "cell_type": "code",
   "execution_count": 19,
   "id": "b1bb97bc",
   "metadata": {
    "execution": {
     "iopub.execute_input": "2021-10-07T16:38:48.420875Z",
     "iopub.status.busy": "2021-10-07T16:38:48.419997Z",
     "iopub.status.idle": "2021-10-07T16:38:48.423349Z",
     "shell.execute_reply": "2021-10-07T16:38:48.423809Z",
     "shell.execute_reply.started": "2021-10-07T16:36:00.521043Z"
    },
    "papermill": {
     "duration": 0.090235,
     "end_time": "2021-10-07T16:38:48.423976",
     "exception": false,
     "start_time": "2021-10-07T16:38:48.333741",
     "status": "completed"
    },
    "tags": []
   },
   "outputs": [
    {
     "data": {
      "text/plain": [
       "0      1\n",
       "1      1\n",
       "2      1\n",
       "3      1\n",
       "4      1\n",
       "      ..\n",
       "298    0\n",
       "299    0\n",
       "300    0\n",
       "301    0\n",
       "302    0\n",
       "Name: target, Length: 303, dtype: int64"
      ]
     },
     "execution_count": 19,
     "metadata": {},
     "output_type": "execute_result"
    }
   ],
   "source": [
    "y"
   ]
  },
  {
   "cell_type": "code",
   "execution_count": 20,
   "id": "4f01af88",
   "metadata": {
    "execution": {
     "iopub.execute_input": "2021-10-07T16:38:48.595203Z",
     "iopub.status.busy": "2021-10-07T16:38:48.594507Z",
     "iopub.status.idle": "2021-10-07T16:38:48.597238Z",
     "shell.execute_reply": "2021-10-07T16:38:48.596732Z",
     "shell.execute_reply.started": "2021-10-07T16:36:00.534068Z"
    },
    "papermill": {
     "duration": 0.090321,
     "end_time": "2021-10-07T16:38:48.597370",
     "exception": false,
     "start_time": "2021-10-07T16:38:48.507049",
     "status": "completed"
    },
    "tags": []
   },
   "outputs": [],
   "source": [
    "# Spliting the data into train and test dataset\n",
    "\n",
    "# to reproduce the exact data chosen\n",
    "np.random.seed(42) \n",
    "\n",
    "# Actual splitting\n",
    "x_train,x_test,y_train,y_test = train_test_split(x,y,test_size=0.2)\n"
   ]
  },
  {
   "cell_type": "markdown",
   "id": "fe3b579b",
   "metadata": {
    "papermill": {
     "duration": 0.081211,
     "end_time": "2021-10-07T16:38:48.758524",
     "exception": false,
     "start_time": "2021-10-07T16:38:48.677313",
     "status": "completed"
    },
    "tags": []
   },
   "source": [
    "why we need to split our data into test and train : https://docs.microsoft.com/en-us/analysis-services/data-mining/training-and-testing-data-sets?view=asallproducts-allversions#:~:text=Separating%20data%20into%20training%20and,of%20evaluating%20data%20mining%20models.&text=Because%20the%20data%20in%20the,the%20model's%20guesses%20are%20correct."
   ]
  },
  {
   "cell_type": "code",
   "execution_count": 21,
   "id": "77760c5e",
   "metadata": {
    "execution": {
     "iopub.execute_input": "2021-10-07T16:38:48.931696Z",
     "iopub.status.busy": "2021-10-07T16:38:48.930975Z",
     "iopub.status.idle": "2021-10-07T16:38:48.940016Z",
     "shell.execute_reply": "2021-10-07T16:38:48.940575Z",
     "shell.execute_reply.started": "2021-10-07T16:36:00.546182Z"
    },
    "papermill": {
     "duration": 0.102007,
     "end_time": "2021-10-07T16:38:48.940744",
     "exception": false,
     "start_time": "2021-10-07T16:38:48.838737",
     "status": "completed"
    },
    "tags": []
   },
   "outputs": [
    {
     "data": {
      "text/html": [
       "<div>\n",
       "<style scoped>\n",
       "    .dataframe tbody tr th:only-of-type {\n",
       "        vertical-align: middle;\n",
       "    }\n",
       "\n",
       "    .dataframe tbody tr th {\n",
       "        vertical-align: top;\n",
       "    }\n",
       "\n",
       "    .dataframe thead th {\n",
       "        text-align: right;\n",
       "    }\n",
       "</style>\n",
       "<table border=\"1\" class=\"dataframe\">\n",
       "  <thead>\n",
       "    <tr style=\"text-align: right;\">\n",
       "      <th></th>\n",
       "      <th>age</th>\n",
       "      <th>sex</th>\n",
       "      <th>cp</th>\n",
       "      <th>trestbps</th>\n",
       "      <th>chol</th>\n",
       "      <th>fbs</th>\n",
       "      <th>restecg</th>\n",
       "      <th>thalach</th>\n",
       "      <th>exang</th>\n",
       "      <th>oldpeak</th>\n",
       "      <th>slope</th>\n",
       "      <th>ca</th>\n",
       "      <th>thal</th>\n",
       "    </tr>\n",
       "  </thead>\n",
       "  <tbody>\n",
       "    <tr>\n",
       "      <th>132</th>\n",
       "      <td>42</td>\n",
       "      <td>1</td>\n",
       "      <td>1</td>\n",
       "      <td>120</td>\n",
       "      <td>295</td>\n",
       "      <td>0</td>\n",
       "      <td>1</td>\n",
       "      <td>162</td>\n",
       "      <td>0</td>\n",
       "      <td>0.0</td>\n",
       "      <td>2</td>\n",
       "      <td>0</td>\n",
       "      <td>2</td>\n",
       "    </tr>\n",
       "    <tr>\n",
       "      <th>202</th>\n",
       "      <td>58</td>\n",
       "      <td>1</td>\n",
       "      <td>0</td>\n",
       "      <td>150</td>\n",
       "      <td>270</td>\n",
       "      <td>0</td>\n",
       "      <td>0</td>\n",
       "      <td>111</td>\n",
       "      <td>1</td>\n",
       "      <td>0.8</td>\n",
       "      <td>2</td>\n",
       "      <td>0</td>\n",
       "      <td>3</td>\n",
       "    </tr>\n",
       "    <tr>\n",
       "      <th>196</th>\n",
       "      <td>46</td>\n",
       "      <td>1</td>\n",
       "      <td>2</td>\n",
       "      <td>150</td>\n",
       "      <td>231</td>\n",
       "      <td>0</td>\n",
       "      <td>1</td>\n",
       "      <td>147</td>\n",
       "      <td>0</td>\n",
       "      <td>3.6</td>\n",
       "      <td>1</td>\n",
       "      <td>0</td>\n",
       "      <td>2</td>\n",
       "    </tr>\n",
       "    <tr>\n",
       "      <th>75</th>\n",
       "      <td>55</td>\n",
       "      <td>0</td>\n",
       "      <td>1</td>\n",
       "      <td>135</td>\n",
       "      <td>250</td>\n",
       "      <td>0</td>\n",
       "      <td>0</td>\n",
       "      <td>161</td>\n",
       "      <td>0</td>\n",
       "      <td>1.4</td>\n",
       "      <td>1</td>\n",
       "      <td>0</td>\n",
       "      <td>2</td>\n",
       "    </tr>\n",
       "    <tr>\n",
       "      <th>176</th>\n",
       "      <td>60</td>\n",
       "      <td>1</td>\n",
       "      <td>0</td>\n",
       "      <td>117</td>\n",
       "      <td>230</td>\n",
       "      <td>1</td>\n",
       "      <td>1</td>\n",
       "      <td>160</td>\n",
       "      <td>1</td>\n",
       "      <td>1.4</td>\n",
       "      <td>2</td>\n",
       "      <td>2</td>\n",
       "      <td>3</td>\n",
       "    </tr>\n",
       "    <tr>\n",
       "      <th>...</th>\n",
       "      <td>...</td>\n",
       "      <td>...</td>\n",
       "      <td>...</td>\n",
       "      <td>...</td>\n",
       "      <td>...</td>\n",
       "      <td>...</td>\n",
       "      <td>...</td>\n",
       "      <td>...</td>\n",
       "      <td>...</td>\n",
       "      <td>...</td>\n",
       "      <td>...</td>\n",
       "      <td>...</td>\n",
       "      <td>...</td>\n",
       "    </tr>\n",
       "    <tr>\n",
       "      <th>188</th>\n",
       "      <td>50</td>\n",
       "      <td>1</td>\n",
       "      <td>2</td>\n",
       "      <td>140</td>\n",
       "      <td>233</td>\n",
       "      <td>0</td>\n",
       "      <td>1</td>\n",
       "      <td>163</td>\n",
       "      <td>0</td>\n",
       "      <td>0.6</td>\n",
       "      <td>1</td>\n",
       "      <td>1</td>\n",
       "      <td>3</td>\n",
       "    </tr>\n",
       "    <tr>\n",
       "      <th>71</th>\n",
       "      <td>51</td>\n",
       "      <td>1</td>\n",
       "      <td>2</td>\n",
       "      <td>94</td>\n",
       "      <td>227</td>\n",
       "      <td>0</td>\n",
       "      <td>1</td>\n",
       "      <td>154</td>\n",
       "      <td>1</td>\n",
       "      <td>0.0</td>\n",
       "      <td>2</td>\n",
       "      <td>1</td>\n",
       "      <td>3</td>\n",
       "    </tr>\n",
       "    <tr>\n",
       "      <th>106</th>\n",
       "      <td>69</td>\n",
       "      <td>1</td>\n",
       "      <td>3</td>\n",
       "      <td>160</td>\n",
       "      <td>234</td>\n",
       "      <td>1</td>\n",
       "      <td>0</td>\n",
       "      <td>131</td>\n",
       "      <td>0</td>\n",
       "      <td>0.1</td>\n",
       "      <td>1</td>\n",
       "      <td>1</td>\n",
       "      <td>2</td>\n",
       "    </tr>\n",
       "    <tr>\n",
       "      <th>270</th>\n",
       "      <td>46</td>\n",
       "      <td>1</td>\n",
       "      <td>0</td>\n",
       "      <td>120</td>\n",
       "      <td>249</td>\n",
       "      <td>0</td>\n",
       "      <td>0</td>\n",
       "      <td>144</td>\n",
       "      <td>0</td>\n",
       "      <td>0.8</td>\n",
       "      <td>2</td>\n",
       "      <td>0</td>\n",
       "      <td>3</td>\n",
       "    </tr>\n",
       "    <tr>\n",
       "      <th>102</th>\n",
       "      <td>63</td>\n",
       "      <td>0</td>\n",
       "      <td>1</td>\n",
       "      <td>140</td>\n",
       "      <td>195</td>\n",
       "      <td>0</td>\n",
       "      <td>1</td>\n",
       "      <td>179</td>\n",
       "      <td>0</td>\n",
       "      <td>0.0</td>\n",
       "      <td>2</td>\n",
       "      <td>2</td>\n",
       "      <td>2</td>\n",
       "    </tr>\n",
       "  </tbody>\n",
       "</table>\n",
       "<p>242 rows × 13 columns</p>\n",
       "</div>"
      ],
      "text/plain": [
       "     age  sex  cp  trestbps  chol  fbs  restecg  thalach  exang  oldpeak  \\\n",
       "132   42    1   1       120   295    0        1      162      0      0.0   \n",
       "202   58    1   0       150   270    0        0      111      1      0.8   \n",
       "196   46    1   2       150   231    0        1      147      0      3.6   \n",
       "75    55    0   1       135   250    0        0      161      0      1.4   \n",
       "176   60    1   0       117   230    1        1      160      1      1.4   \n",
       "..   ...  ...  ..       ...   ...  ...      ...      ...    ...      ...   \n",
       "188   50    1   2       140   233    0        1      163      0      0.6   \n",
       "71    51    1   2        94   227    0        1      154      1      0.0   \n",
       "106   69    1   3       160   234    1        0      131      0      0.1   \n",
       "270   46    1   0       120   249    0        0      144      0      0.8   \n",
       "102   63    0   1       140   195    0        1      179      0      0.0   \n",
       "\n",
       "     slope  ca  thal  \n",
       "132      2   0     2  \n",
       "202      2   0     3  \n",
       "196      1   0     2  \n",
       "75       1   0     2  \n",
       "176      2   2     3  \n",
       "..     ...  ..   ...  \n",
       "188      1   1     3  \n",
       "71       2   1     3  \n",
       "106      1   1     2  \n",
       "270      2   0     3  \n",
       "102      2   2     2  \n",
       "\n",
       "[242 rows x 13 columns]"
      ]
     },
     "execution_count": 21,
     "metadata": {},
     "output_type": "execute_result"
    }
   ],
   "source": [
    "x_train"
   ]
  },
  {
   "cell_type": "code",
   "execution_count": 22,
   "id": "e74394eb",
   "metadata": {
    "execution": {
     "iopub.execute_input": "2021-10-07T16:38:49.107332Z",
     "iopub.status.busy": "2021-10-07T16:38:49.106700Z",
     "iopub.status.idle": "2021-10-07T16:38:49.112542Z",
     "shell.execute_reply": "2021-10-07T16:38:49.113073Z",
     "shell.execute_reply.started": "2021-10-07T16:36:00.576485Z"
    },
    "papermill": {
     "duration": 0.091707,
     "end_time": "2021-10-07T16:38:49.113240",
     "exception": false,
     "start_time": "2021-10-07T16:38:49.021533",
     "status": "completed"
    },
    "tags": []
   },
   "outputs": [
    {
     "data": {
      "text/plain": [
       "(132    1\n",
       " 202    0\n",
       " 196    0\n",
       " 75     1\n",
       " 176    0\n",
       "       ..\n",
       " 188    0\n",
       " 71     1\n",
       " 106    1\n",
       " 270    0\n",
       " 102    1\n",
       " Name: target, Length: 242, dtype: int64,\n",
       " 242)"
      ]
     },
     "execution_count": 22,
     "metadata": {},
     "output_type": "execute_result"
    }
   ],
   "source": [
    "y_train,len(y_train)"
   ]
  },
  {
   "cell_type": "markdown",
   "id": "22128092",
   "metadata": {
    "papermill": {
     "duration": 0.080726,
     "end_time": "2021-10-07T16:38:49.275253",
     "exception": false,
     "start_time": "2021-10-07T16:38:49.194527",
     "status": "completed"
    },
    "tags": []
   },
   "source": [
    "### Train and Test the set by Fitting it into a Model"
   ]
  },
  {
   "cell_type": "markdown",
   "id": "27f45922",
   "metadata": {
    "papermill": {
     "duration": 0.080372,
     "end_time": "2021-10-07T16:38:49.436782",
     "exception": false,
     "start_time": "2021-10-07T16:38:49.356410",
     "status": "completed"
    },
    "tags": []
   },
   "source": [
    "* LogisticRegression\n",
    "* KNeighbors\n",
    "* Ensembler(RandomForestClassifier)"
   ]
  },
  {
   "cell_type": "markdown",
   "id": "14fc2c29",
   "metadata": {
    "papermill": {
     "duration": 0.084688,
     "end_time": "2021-10-07T16:38:49.602765",
     "exception": false,
     "start_time": "2021-10-07T16:38:49.518077",
     "status": "completed"
    },
    "tags": []
   },
   "source": [
    "Yes we can use Logistic\"Regression\" for classification for more details : https://scikit-learn.org/stable/modules/linear_model.html#logistic-regression"
   ]
  },
  {
   "cell_type": "code",
   "execution_count": 23,
   "id": "932cbd13",
   "metadata": {
    "execution": {
     "iopub.execute_input": "2021-10-07T16:38:49.768339Z",
     "iopub.status.busy": "2021-10-07T16:38:49.767691Z",
     "iopub.status.idle": "2021-10-07T16:38:49.774094Z",
     "shell.execute_reply": "2021-10-07T16:38:49.774590Z",
     "shell.execute_reply.started": "2021-10-07T16:36:00.585555Z"
    },
    "papermill": {
     "duration": 0.091061,
     "end_time": "2021-10-07T16:38:49.774751",
     "exception": false,
     "start_time": "2021-10-07T16:38:49.683690",
     "status": "completed"
    },
    "tags": []
   },
   "outputs": [],
   "source": [
    "# Put models in a dictionary\n",
    "models = {\n",
    "          \"Logistic Regression\": LogisticRegression(solver='liblinear'), \n",
    "          \"KNN\": KNeighborsClassifier(),\n",
    "          \"Random Forest\": RandomForestClassifier()\n",
    "          }\n",
    "\n",
    "# Create function to fit and score models\n",
    "def fit_and_score(models, x_train, x_test, y_train, y_test):\n",
    "    \"\"\"\n",
    "    Fits and evaluates given machine learning models.\n",
    "    models : a dict of different Scikit-Learn machine learning models\n",
    "    X_train : training data\n",
    "    X_test : testing data\n",
    "    y_train : labels assosciated with training data\n",
    "    y_test : labels assosciated with test data\n",
    "    \"\"\"\n",
    "    # Random seed for reproducible results\n",
    "    np.random.seed(42)\n",
    "    # Make a list to keep model scores\n",
    "    model_scores = {}\n",
    "    # Loop through models\n",
    "    for name, model in models.items():\n",
    "        # Fit the model to the data\n",
    "        model.fit(x_train, y_train)\n",
    "        # Evaluate the model and append its score to model_scores\n",
    "        model_scores[name] = model.score(x_test, y_test)\n",
    "    return model_scores"
   ]
  },
  {
   "cell_type": "code",
   "execution_count": 24,
   "id": "ff8fff24",
   "metadata": {
    "execution": {
     "iopub.execute_input": "2021-10-07T16:38:49.940615Z",
     "iopub.status.busy": "2021-10-07T16:38:49.939963Z",
     "iopub.status.idle": "2021-10-07T16:38:50.169858Z",
     "shell.execute_reply": "2021-10-07T16:38:50.170332Z",
     "shell.execute_reply.started": "2021-10-07T16:36:00.597720Z"
    },
    "papermill": {
     "duration": 0.314477,
     "end_time": "2021-10-07T16:38:50.170491",
     "exception": false,
     "start_time": "2021-10-07T16:38:49.856014",
     "status": "completed"
    },
    "tags": []
   },
   "outputs": [
    {
     "data": {
      "text/plain": [
       "{'Logistic Regression': 0.8688524590163934,\n",
       " 'KNN': 0.6885245901639344,\n",
       " 'Random Forest': 0.8360655737704918}"
      ]
     },
     "execution_count": 24,
     "metadata": {},
     "output_type": "execute_result"
    }
   ],
   "source": [
    "model_scores = fit_and_score(models = models,\n",
    "                             x_train = x_train,\n",
    "                             x_test = x_test,\n",
    "                             y_train = y_train,\n",
    "                             y_test = y_test)\n",
    "\n",
    "model_scores"
   ]
  },
  {
   "cell_type": "markdown",
   "id": "a05753e0",
   "metadata": {
    "papermill": {
     "duration": 0.080466,
     "end_time": "2021-10-07T16:38:50.332013",
     "exception": false,
     "start_time": "2021-10-07T16:38:50.251547",
     "status": "completed"
    },
    "tags": []
   },
   "source": [
    "if we see in the above result Logistic Regression has higher value. "
   ]
  },
  {
   "cell_type": "markdown",
   "id": "d4788afd",
   "metadata": {
    "papermill": {
     "duration": 0.080485,
     "end_time": "2021-10-07T16:38:50.492985",
     "exception": false,
     "start_time": "2021-10-07T16:38:50.412500",
     "status": "completed"
    },
    "tags": []
   },
   "source": [
    "The above warning suggesting us an way to improve the logistic regression model"
   ]
  },
  {
   "cell_type": "markdown",
   "id": "cef605ce",
   "metadata": {
    "papermill": {
     "duration": 0.080641,
     "end_time": "2021-10-07T16:38:50.655416",
     "exception": false,
     "start_time": "2021-10-07T16:38:50.574775",
     "status": "completed"
    },
    "tags": []
   },
   "source": [
    "## Model comparision"
   ]
  },
  {
   "cell_type": "code",
   "execution_count": 25,
   "id": "4feb1c58",
   "metadata": {
    "execution": {
     "iopub.execute_input": "2021-10-07T16:38:50.820165Z",
     "iopub.status.busy": "2021-10-07T16:38:50.819529Z",
     "iopub.status.idle": "2021-10-07T16:38:50.983103Z",
     "shell.execute_reply": "2021-10-07T16:38:50.983615Z",
     "shell.execute_reply.started": "2021-10-07T16:36:00.832790Z"
    },
    "papermill": {
     "duration": 0.247439,
     "end_time": "2021-10-07T16:38:50.983790",
     "exception": false,
     "start_time": "2021-10-07T16:38:50.736351",
     "status": "completed"
    },
    "tags": []
   },
   "outputs": [
    {
     "data": {
      "image/png": "[encoded data removed]",
      "text/plain": [
       "<Figure size 432x288 with 1 Axes>"
      ]
     },
     "metadata": {
      "needs_background": "light"
     },
     "output_type": "display_data"
    }
   ],
   "source": [
    "model_compare = pd.DataFrame(model_scores, index = [\"accuracy\"])\n",
    "model_compare.T.plot.bar();"
   ]
  },
  {
   "cell_type": "markdown",
   "id": "23fd2d42",
   "metadata": {
    "papermill": {
     "duration": 0.082298,
     "end_time": "2021-10-07T16:38:51.148279",
     "exception": false,
     "start_time": "2021-10-07T16:38:51.065981",
     "status": "completed"
    },
    "tags": []
   },
   "source": [
    "## Improving the model"
   ]
  },
  {
   "cell_type": "markdown",
   "id": "60cbdbba",
   "metadata": {
    "papermill": {
     "duration": 0.084503,
     "end_time": "2021-10-07T16:38:51.315837",
     "exception": false,
     "start_time": "2021-10-07T16:38:51.231334",
     "status": "completed"
    },
    "tags": []
   },
   "source": [
    "we are going to do the following:\n",
    "\n",
    "* Hyperparameter tuning\n",
    "* Feature importance\n",
    "* Confusion Matrix\n",
    "* Cross-validation\n",
    "* Precision (mean absolute error)\n",
    "* Recall (mean squared error)\n",
    "* F1 score (root mean squared error)\n",
    "* Classification report\n",
    "* ROC curve\n",
    "* Area Under the curve\n"
   ]
  },
  {
   "cell_type": "markdown",
   "id": "19c07c27",
   "metadata": {
    "papermill": {
     "duration": 0.146332,
     "end_time": "2021-10-07T16:38:51.561931",
     "exception": false,
     "start_time": "2021-10-07T16:38:51.415599",
     "status": "completed"
    },
    "tags": []
   },
   "source": [
    "### Hyperparameter Tuning\n",
    "\n",
    "> KNN"
   ]
  },
  {
   "cell_type": "code",
   "execution_count": 26,
   "id": "fd675362",
   "metadata": {
    "execution": {
     "iopub.execute_input": "2021-10-07T16:38:51.743481Z",
     "iopub.status.busy": "2021-10-07T16:38:51.742577Z",
     "iopub.status.idle": "2021-10-07T16:38:52.111354Z",
     "shell.execute_reply": "2021-10-07T16:38:52.111896Z",
     "shell.execute_reply.started": "2021-10-07T16:36:01.047516Z"
    },
    "papermill": {
     "duration": 0.460559,
     "end_time": "2021-10-07T16:38:52.112070",
     "exception": false,
     "start_time": "2021-10-07T16:38:51.651511",
     "status": "completed"
    },
    "tags": []
   },
   "outputs": [],
   "source": [
    "# Tuning KNN\n",
    "\n",
    "train_score = []\n",
    "test_score = []\n",
    "\n",
    "# Create a list of different values for n_neighbors\n",
    "\n",
    "neighbors = range(1,21)\n",
    "\n",
    "# Setup KNN instance\n",
    "\n",
    "knn = KNeighborsClassifier()\n",
    "\n",
    "# Loop through differnt n_neighbors\n",
    "\n",
    "for i in neighbors:\n",
    "    knn.set_params(n_neighbors = i)\n",
    "    \n",
    "    # fit the algo\n",
    "    knn.fit(x_train,y_train)\n",
    "    \n",
    "    # Update the training score and test scores\n",
    "    \n",
    "    train_score.append(knn.score(x_train,y_train))\n",
    "    \n",
    "    test_score.append(knn.score(x_test,y_test))"
   ]
  },
  {
   "cell_type": "code",
   "execution_count": 27,
   "id": "687fe6e3",
   "metadata": {
    "execution": {
     "iopub.execute_input": "2021-10-07T16:38:52.280883Z",
     "iopub.status.busy": "2021-10-07T16:38:52.279961Z",
     "iopub.status.idle": "2021-10-07T16:38:52.285331Z",
     "shell.execute_reply": "2021-10-07T16:38:52.285952Z",
     "shell.execute_reply.started": "2021-10-07T16:36:01.441618Z"
    },
    "papermill": {
     "duration": 0.091361,
     "end_time": "2021-10-07T16:38:52.286112",
     "exception": false,
     "start_time": "2021-10-07T16:38:52.194751",
     "status": "completed"
    },
    "tags": []
   },
   "outputs": [
    {
     "data": {
      "text/plain": [
       "[1.0,\n",
       " 0.8099173553719008,\n",
       " 0.7727272727272727,\n",
       " 0.743801652892562,\n",
       " 0.7603305785123967,\n",
       " 0.7520661157024794,\n",
       " 0.743801652892562,\n",
       " 0.7231404958677686,\n",
       " 0.71900826446281,\n",
       " 0.6942148760330579,\n",
       " 0.7272727272727273,\n",
       " 0.6983471074380165,\n",
       " 0.6900826446280992,\n",
       " 0.6942148760330579,\n",
       " 0.6859504132231405,\n",
       " 0.6735537190082644,\n",
       " 0.6859504132231405,\n",
       " 0.6652892561983471,\n",
       " 0.6818181818181818,\n",
       " 0.6694214876033058]"
      ]
     },
     "execution_count": 27,
     "metadata": {},
     "output_type": "execute_result"
    }
   ],
   "source": [
    "train_score"
   ]
  },
  {
   "cell_type": "code",
   "execution_count": 28,
   "id": "e0392236",
   "metadata": {
    "execution": {
     "iopub.execute_input": "2021-10-07T16:38:52.457821Z",
     "iopub.status.busy": "2021-10-07T16:38:52.456416Z",
     "iopub.status.idle": "2021-10-07T16:38:52.460354Z",
     "shell.execute_reply": "2021-10-07T16:38:52.460953Z",
     "shell.execute_reply.started": "2021-10-07T16:36:01.448974Z"
    },
    "papermill": {
     "duration": 0.09082,
     "end_time": "2021-10-07T16:38:52.461154",
     "exception": false,
     "start_time": "2021-10-07T16:38:52.370334",
     "status": "completed"
    },
    "tags": []
   },
   "outputs": [
    {
     "data": {
      "text/plain": [
       "[0.6229508196721312,\n",
       " 0.639344262295082,\n",
       " 0.6557377049180327,\n",
       " 0.6721311475409836,\n",
       " 0.6885245901639344,\n",
       " 0.7213114754098361,\n",
       " 0.7049180327868853,\n",
       " 0.6885245901639344,\n",
       " 0.6885245901639344,\n",
       " 0.7049180327868853,\n",
       " 0.7540983606557377,\n",
       " 0.7377049180327869,\n",
       " 0.7377049180327869,\n",
       " 0.7377049180327869,\n",
       " 0.6885245901639344,\n",
       " 0.7213114754098361,\n",
       " 0.6885245901639344,\n",
       " 0.6885245901639344,\n",
       " 0.7049180327868853,\n",
       " 0.6557377049180327]"
      ]
     },
     "execution_count": 28,
     "metadata": {},
     "output_type": "execute_result"
    }
   ],
   "source": [
    "test_score"
   ]
  },
  {
   "cell_type": "code",
   "execution_count": 29,
   "id": "06c684e8",
   "metadata": {
    "execution": {
     "iopub.execute_input": "2021-10-07T16:38:52.687919Z",
     "iopub.status.busy": "2021-10-07T16:38:52.678673Z",
     "iopub.status.idle": "2021-10-07T16:38:52.930920Z",
     "shell.execute_reply": "2021-10-07T16:38:52.931426Z",
     "shell.execute_reply.started": "2021-10-07T16:36:01.463671Z"
    },
    "papermill": {
     "duration": 0.386127,
     "end_time": "2021-10-07T16:38:52.931622",
     "exception": false,
     "start_time": "2021-10-07T16:38:52.545495",
     "status": "completed"
    },
    "tags": []
   },
   "outputs": [
    {
     "name": "stdout",
     "output_type": "stream",
     "text": [
      "Maximum KNN score on the test data: 75.41%\n"
     ]
    },
    {
     "data": {
      "image/png": "[encoded data removed]",
      "text/plain": [
       "<Figure size 432x288 with 1 Axes>"
      ]
     },
     "metadata": {
      "needs_background": "light"
     },
     "output_type": "display_data"
    }
   ],
   "source": [
    "plt.plot(neighbors, train_score, label = \"Train Score\")\n",
    "plt.plot(neighbors, test_score, label = \"Test Score\")\n",
    "plt.xticks(np.arange(1,21,1))\n",
    "plt.xlabel(\"Number of neighbors\")\n",
    "plt.ylabel(\"Model Score\")\n",
    "plt.legend()\n",
    "\n",
    "print(f\"Maximum KNN score on the test data: {max(test_score)*100:.2f}%\")"
   ]
  },
  {
   "cell_type": "markdown",
   "id": "227436a4",
   "metadata": {
    "papermill": {
     "duration": 0.084877,
     "end_time": "2021-10-07T16:38:53.102054",
     "exception": false,
     "start_time": "2021-10-07T16:38:53.017177",
     "status": "completed"
    },
    "tags": []
   },
   "source": [
    "The heighest score is 75.41%\n",
    "* [note] we can still try different range of n_neighbors int this case i tried some and stil didn't get anything to the mark"
   ]
  },
  {
   "cell_type": "markdown",
   "id": "65d01329",
   "metadata": {
    "papermill": {
     "duration": 0.08386,
     "end_time": "2021-10-07T16:38:53.270165",
     "exception": false,
     "start_time": "2021-10-07T16:38:53.186305",
     "status": "completed"
    },
    "tags": []
   },
   "source": [
    "Good bye KNN...."
   ]
  },
  {
   "cell_type": "markdown",
   "id": "5d4dd80c",
   "metadata": {
    "papermill": {
     "duration": 0.083902,
     "end_time": "2021-10-07T16:38:53.437963",
     "exception": false,
     "start_time": "2021-10-07T16:38:53.354061",
     "status": "completed"
    },
    "tags": []
   },
   "source": [
    "## Hyperparameter with RandomizedSearchCV"
   ]
  },
  {
   "cell_type": "markdown",
   "id": "0845aec4",
   "metadata": {
    "papermill": {
     "duration": 0.084549,
     "end_time": "2021-10-07T16:38:53.606770",
     "exception": false,
     "start_time": "2021-10-07T16:38:53.522221",
     "status": "completed"
    },
    "tags": []
   },
   "source": [
    "to know more about it : https://scikit-learn.org/stable/modules/generated/sklearn.model_selection.RandomizedSearchCV.html"
   ]
  },
  {
   "cell_type": "markdown",
   "id": "2b7bc900",
   "metadata": {
    "papermill": {
     "duration": 0.084342,
     "end_time": "2021-10-07T16:38:53.775388",
     "exception": false,
     "start_time": "2021-10-07T16:38:53.691046",
     "status": "completed"
    },
    "tags": []
   },
   "source": [
    "> Logistic Regression\n",
    "And\n",
    "> RandomForest"
   ]
  },
  {
   "cell_type": "code",
   "execution_count": 30,
   "id": "9923417e",
   "metadata": {
    "execution": {
     "iopub.execute_input": "2021-10-07T16:38:53.952256Z",
     "iopub.status.busy": "2021-10-07T16:38:53.951447Z",
     "iopub.status.idle": "2021-10-07T16:38:53.954096Z",
     "shell.execute_reply": "2021-10-07T16:38:53.953598Z",
     "shell.execute_reply.started": "2021-10-07T16:36:01.788274Z"
    },
    "papermill": {
     "duration": 0.094326,
     "end_time": "2021-10-07T16:38:53.954223",
     "exception": false,
     "start_time": "2021-10-07T16:38:53.859897",
     "status": "completed"
    },
    "tags": []
   },
   "outputs": [],
   "source": [
    "# Create a hyperparameter grid for logostic regression\n",
    "\n",
    "log_reg_grid = {\"C\" : np.logspace(-4, 4, 20),\n",
    "                \"solver\" : [\"liblinear\"]}\n",
    "\n",
    "# Create a hyperparameter for RandomForest Classifier\n",
    "\n",
    "rf_grid = {\"n_estimators\" : np.arange(10, 1000, 50),\n",
    "           \"max_depth\" : [None, 3, 5, 10],\n",
    "           \"min_samples_split\" : np.arange(2, 20, 2),\n",
    "           \"min_samples_leaf\" : np.arange(1, 20, 2)}"
   ]
  },
  {
   "cell_type": "code",
   "execution_count": 31,
   "id": "ac2d1748",
   "metadata": {
    "execution": {
     "iopub.execute_input": "2021-10-07T16:38:54.134653Z",
     "iopub.status.busy": "2021-10-07T16:38:54.131173Z",
     "iopub.status.idle": "2021-10-07T16:38:54.659172Z",
     "shell.execute_reply": "2021-10-07T16:38:54.658677Z",
     "shell.execute_reply.started": "2021-10-07T16:36:01.795112Z"
    },
    "papermill": {
     "duration": 0.620541,
     "end_time": "2021-10-07T16:38:54.659308",
     "exception": false,
     "start_time": "2021-10-07T16:38:54.038767",
     "status": "completed"
    },
    "tags": []
   },
   "outputs": [
    {
     "name": "stdout",
     "output_type": "stream",
     "text": [
      "Fitting 5 folds for each of 20 candidates, totalling 100 fits\n"
     ]
    },
    {
     "name": "stderr",
     "output_type": "stream",
     "text": [
      "[Parallel(n_jobs=1)]: Using backend SequentialBackend with 1 concurrent workers.\n",
      "[Parallel(n_jobs=1)]: Done 100 out of 100 | elapsed:    0.5s finished\n"
     ]
    },
    {
     "data": {
      "text/plain": [
       "RandomizedSearchCV(cv=5, estimator=LogisticRegression(), n_iter=20,\n",
       "                   param_distributions={'C': array([1.00000000e-04, 2.63665090e-04, 6.95192796e-04, 1.83298071e-03,\n",
       "       4.83293024e-03, 1.27427499e-02, 3.35981829e-02, 8.85866790e-02,\n",
       "       2.33572147e-01, 6.15848211e-01, 1.62377674e+00, 4.28133240e+00,\n",
       "       1.12883789e+01, 2.97635144e+01, 7.84759970e+01, 2.06913808e+02,\n",
       "       5.45559478e+02, 1.43844989e+03, 3.79269019e+03, 1.00000000e+04]),\n",
       "                                        'solver': ['liblinear']},\n",
       "                   verbose=True)"
      ]
     },
     "execution_count": 31,
     "metadata": {},
     "output_type": "execute_result"
    }
   ],
   "source": [
    "# Tune using RandomizedSearchCV\n",
    "\n",
    "np.random.seed(42)\n",
    "\n",
    "# LogisticRegression\n",
    "rs_log_reg = RandomizedSearchCV(LogisticRegression(),\n",
    "                                param_distributions = log_reg_grid,\n",
    "                                cv = 5,\n",
    "                                n_iter = 20,\n",
    "                                verbose = True)\n",
    "# Fit the model\n",
    "\n",
    "rs_log_reg.fit(x_train, y_train)"
   ]
  },
  {
   "cell_type": "code",
   "execution_count": 32,
   "id": "6cbb62ad",
   "metadata": {
    "execution": {
     "iopub.execute_input": "2021-10-07T16:38:54.836094Z",
     "iopub.status.busy": "2021-10-07T16:38:54.835227Z",
     "iopub.status.idle": "2021-10-07T16:38:54.838828Z",
     "shell.execute_reply": "2021-10-07T16:38:54.839269Z",
     "shell.execute_reply.started": "2021-10-07T16:36:02.331823Z"
    },
    "papermill": {
     "duration": 0.094233,
     "end_time": "2021-10-07T16:38:54.839433",
     "exception": false,
     "start_time": "2021-10-07T16:38:54.745200",
     "status": "completed"
    },
    "tags": []
   },
   "outputs": [
    {
     "data": {
      "text/plain": [
       "{'solver': 'liblinear', 'C': 0.23357214690901212}"
      ]
     },
     "execution_count": 32,
     "metadata": {},
     "output_type": "execute_result"
    }
   ],
   "source": [
    "# Check the best params\n",
    "rs_log_reg.best_params_"
   ]
  },
  {
   "cell_type": "code",
   "execution_count": 33,
   "id": "325666df",
   "metadata": {
    "execution": {
     "iopub.execute_input": "2021-10-07T16:38:55.022065Z",
     "iopub.status.busy": "2021-10-07T16:38:55.021216Z",
     "iopub.status.idle": "2021-10-07T16:38:55.025249Z",
     "shell.execute_reply": "2021-10-07T16:38:55.024716Z",
     "shell.execute_reply.started": "2021-10-07T16:36:02.339828Z"
    },
    "papermill": {
     "duration": 0.098009,
     "end_time": "2021-10-07T16:38:55.025391",
     "exception": false,
     "start_time": "2021-10-07T16:38:54.927382",
     "status": "completed"
    },
    "tags": []
   },
   "outputs": [
    {
     "data": {
      "text/plain": [
       "0.8852459016393442"
      ]
     },
     "execution_count": 33,
     "metadata": {},
     "output_type": "execute_result"
    }
   ],
   "source": [
    "rs_log_reg.score(x_test,y_test)"
   ]
  },
  {
   "cell_type": "markdown",
   "id": "b60c7438",
   "metadata": {
    "papermill": {
     "duration": 0.086176,
     "end_time": "2021-10-07T16:38:55.199155",
     "exception": false,
     "start_time": "2021-10-07T16:38:55.112979",
     "status": "completed"
    },
    "tags": []
   },
   "source": [
    "the model didnt improverd it remained the same, let leave it as it is for now"
   ]
  },
  {
   "cell_type": "markdown",
   "id": "921e4fc2",
   "metadata": {
    "papermill": {
     "duration": 0.086049,
     "end_time": "2021-10-07T16:38:55.371433",
     "exception": false,
     "start_time": "2021-10-07T16:38:55.285384",
     "status": "completed"
    },
    "tags": []
   },
   "source": [
    "***RandomForestClassifier***"
   ]
  },
  {
   "cell_type": "code",
   "execution_count": 34,
   "id": "03445b6a",
   "metadata": {
    "execution": {
     "iopub.execute_input": "2021-10-07T16:38:55.552357Z",
     "iopub.status.busy": "2021-10-07T16:38:55.551674Z",
     "iopub.status.idle": "2021-10-07T16:40:30.110202Z",
     "shell.execute_reply": "2021-10-07T16:40:30.109682Z",
     "shell.execute_reply.started": "2021-10-07T16:36:02.356184Z"
    },
    "papermill": {
     "duration": 94.652471,
     "end_time": "2021-10-07T16:40:30.110356",
     "exception": false,
     "start_time": "2021-10-07T16:38:55.457885",
     "status": "completed"
    },
    "tags": []
   },
   "outputs": [
    {
     "name": "stdout",
     "output_type": "stream",
     "text": [
      "Fitting 5 folds for each of 20 candidates, totalling 100 fits\n"
     ]
    },
    {
     "name": "stderr",
     "output_type": "stream",
     "text": [
      "[Parallel(n_jobs=1)]: Using backend SequentialBackend with 1 concurrent workers.\n",
      "[Parallel(n_jobs=1)]: Done 100 out of 100 | elapsed:  1.6min finished\n"
     ]
    },
    {
     "data": {
      "text/plain": [
       "RandomizedSearchCV(cv=5, estimator=RandomForestClassifier(), n_iter=20,\n",
       "                   param_distributions={'max_depth': [None, 3, 5, 10],\n",
       "                                        'min_samples_leaf': array([ 1,  3,  5,  7,  9, 11, 13, 15, 17, 19]),\n",
       "                                        'min_samples_split': array([ 2,  4,  6,  8, 10, 12, 14, 16, 18]),\n",
       "                                        'n_estimators': array([ 10,  60, 110, 160, 210, 260, 310, 360, 410, 460, 510, 560, 610,\n",
       "       660, 710, 760, 810, 860, 910, 960])},\n",
       "                   verbose=True)"
      ]
     },
     "execution_count": 34,
     "metadata": {},
     "output_type": "execute_result"
    }
   ],
   "source": [
    "# Set the random seed\n",
    "np.random.seed(42)\n",
    "\n",
    "#RandomForest\n",
    "\n",
    "rs_rf = RandomizedSearchCV(RandomForestClassifier(),\n",
    "                           param_distributions = rf_grid,\n",
    "                           cv = 5,\n",
    "                           n_iter = 20,\n",
    "                           verbose = True)\n",
    "\n",
    "# Fit the model\n",
    "rs_rf.fit(x_train,y_train)"
   ]
  },
  {
   "cell_type": "code",
   "execution_count": 35,
   "id": "5ea55de6",
   "metadata": {
    "execution": {
     "iopub.execute_input": "2021-10-07T16:40:30.291110Z",
     "iopub.status.busy": "2021-10-07T16:40:30.290161Z",
     "iopub.status.idle": "2021-10-07T16:40:30.293474Z",
     "shell.execute_reply": "2021-10-07T16:40:30.293968Z",
     "shell.execute_reply.started": "2021-10-07T16:37:37.987275Z"
    },
    "papermill": {
     "duration": 0.095752,
     "end_time": "2021-10-07T16:40:30.294124",
     "exception": false,
     "start_time": "2021-10-07T16:40:30.198372",
     "status": "completed"
    },
    "tags": []
   },
   "outputs": [
    {
     "data": {
      "text/plain": [
       "{'n_estimators': 210,\n",
       " 'min_samples_split': 4,\n",
       " 'min_samples_leaf': 19,\n",
       " 'max_depth': 3}"
      ]
     },
     "execution_count": 35,
     "metadata": {},
     "output_type": "execute_result"
    }
   ],
   "source": [
    "# Best parameters\n",
    "\n",
    "rs_rf.best_params_"
   ]
  },
  {
   "cell_type": "code",
   "execution_count": 36,
   "id": "b7984e24",
   "metadata": {
    "execution": {
     "iopub.execute_input": "2021-10-07T16:40:30.480316Z",
     "iopub.status.busy": "2021-10-07T16:40:30.475219Z",
     "iopub.status.idle": "2021-10-07T16:40:30.502695Z",
     "shell.execute_reply": "2021-10-07T16:40:30.503142Z",
     "shell.execute_reply.started": "2021-10-07T16:37:37.995865Z"
    },
    "papermill": {
     "duration": 0.118853,
     "end_time": "2021-10-07T16:40:30.503312",
     "exception": false,
     "start_time": "2021-10-07T16:40:30.384459",
     "status": "completed"
    },
    "tags": []
   },
   "outputs": [
    {
     "data": {
      "text/plain": [
       "0.8688524590163934"
      ]
     },
     "execution_count": 36,
     "metadata": {},
     "output_type": "execute_result"
    }
   ],
   "source": [
    "rs_rf.score(x_test,y_test)"
   ]
  },
  {
   "cell_type": "markdown",
   "id": "4b5c543e",
   "metadata": {
    "papermill": {
     "duration": 0.089256,
     "end_time": "2021-10-07T16:40:30.682427",
     "exception": false,
     "start_time": "2021-10-07T16:40:30.593171",
     "status": "completed"
    },
    "tags": []
   },
   "source": [
    "The score has certainly increased by 0.32"
   ]
  },
  {
   "cell_type": "markdown",
   "id": "b37d5962",
   "metadata": {
    "papermill": {
     "duration": 0.087682,
     "end_time": "2021-10-07T16:40:30.858606",
     "exception": false,
     "start_time": "2021-10-07T16:40:30.770924",
     "status": "completed"
    },
    "tags": []
   },
   "source": [
    "But still Logistic Regression holds upperhand here"
   ]
  },
  {
   "cell_type": "markdown",
   "id": "1fb4131f",
   "metadata": {
    "papermill": {
     "duration": 0.088816,
     "end_time": "2021-10-07T16:40:31.035685",
     "exception": false,
     "start_time": "2021-10-07T16:40:30.946869",
     "status": "completed"
    },
    "tags": []
   },
   "source": [
    "bye bye RandomForestRegression..."
   ]
  },
  {
   "cell_type": "markdown",
   "id": "03f65fc6",
   "metadata": {
    "papermill": {
     "duration": 0.089871,
     "end_time": "2021-10-07T16:40:31.215061",
     "exception": false,
     "start_time": "2021-10-07T16:40:31.125190",
     "status": "completed"
    },
    "tags": []
   },
   "source": [
    "### Improving the Logistic model\n",
    "\n",
    "Let revisit what we did while improving the model\n",
    "* By hand - KNN eliminated\n",
    "* RandomizedSearchCv - RandomForestClassification eliminated\n",
    "* GridSearchCv - upcoming..."
   ]
  },
  {
   "cell_type": "markdown",
   "id": "aabe63b8",
   "metadata": {
    "papermill": {
     "duration": 0.088351,
     "end_time": "2021-10-07T16:40:31.392902",
     "exception": false,
     "start_time": "2021-10-07T16:40:31.304551",
     "status": "completed"
    },
    "tags": []
   },
   "source": [
    "## Tuning Hyperperameter using GridSearchCv\n",
    "> LogisticRegression\n"
   ]
  },
  {
   "cell_type": "markdown",
   "id": "4f78031d",
   "metadata": {
    "papermill": {
     "duration": 0.093956,
     "end_time": "2021-10-07T16:40:31.575081",
     "exception": false,
     "start_time": "2021-10-07T16:40:31.481125",
     "status": "completed"
    },
    "tags": []
   },
   "source": [
    "to know more about GridSearchCv : https://scikit-learn.org/stable/modules/generated/sklearn.model_selection.GridSearchCV.html"
   ]
  },
  {
   "cell_type": "code",
   "execution_count": 37,
   "id": "1d86366a",
   "metadata": {
    "execution": {
     "iopub.execute_input": "2021-10-07T16:40:31.789834Z",
     "iopub.status.busy": "2021-10-07T16:40:31.784690Z",
     "iopub.status.idle": "2021-10-07T16:40:32.318024Z",
     "shell.execute_reply": "2021-10-07T16:40:32.318471Z",
     "shell.execute_reply.started": "2021-10-07T16:37:38.035999Z"
    },
    "papermill": {
     "duration": 0.632244,
     "end_time": "2021-10-07T16:40:32.318658",
     "exception": false,
     "start_time": "2021-10-07T16:40:31.686414",
     "status": "completed"
    },
    "tags": []
   },
   "outputs": [
    {
     "name": "stdout",
     "output_type": "stream",
     "text": [
      "Fitting 5 folds for each of 20 candidates, totalling 100 fits\n"
     ]
    },
    {
     "name": "stderr",
     "output_type": "stream",
     "text": [
      "[Parallel(n_jobs=1)]: Using backend SequentialBackend with 1 concurrent workers.\n",
      "[Parallel(n_jobs=1)]: Done 100 out of 100 | elapsed:    0.5s finished\n"
     ]
    },
    {
     "data": {
      "text/plain": [
       "GridSearchCV(cv=5, estimator=LogisticRegression(),\n",
       "             param_grid={'C': array([1.00000000e-04, 2.63665090e-04, 6.95192796e-04, 1.83298071e-03,\n",
       "       4.83293024e-03, 1.27427499e-02, 3.35981829e-02, 8.85866790e-02,\n",
       "       2.33572147e-01, 6.15848211e-01, 1.62377674e+00, 4.28133240e+00,\n",
       "       1.12883789e+01, 2.97635144e+01, 7.84759970e+01, 2.06913808e+02,\n",
       "       5.45559478e+02, 1.43844989e+03, 3.79269019e+03, 1.00000000e+04]),\n",
       "                         'solver': ['liblinear']},\n",
       "             verbose=True)"
      ]
     },
     "execution_count": 37,
     "metadata": {},
     "output_type": "execute_result"
    }
   ],
   "source": [
    "# Set up hyperparameter\n",
    "log_reg_grid = {\"C\" : np.logspace(-4, 4, 20),\n",
    "                \"solver\" : [\"liblinear\"]}\n",
    "\n",
    "# Set the grid \n",
    "gs_log_reg = GridSearchCV(LogisticRegression(),\n",
    "                          param_grid = log_reg_grid,\n",
    "                          cv = 5,\n",
    "                          verbose = True)\n",
    "\n",
    "# Fit the model\n",
    "gs_log_reg.fit(x_train,y_train)"
   ]
  },
  {
   "cell_type": "code",
   "execution_count": 38,
   "id": "910d43f1",
   "metadata": {
    "execution": {
     "iopub.execute_input": "2021-10-07T16:40:32.509465Z",
     "iopub.status.busy": "2021-10-07T16:40:32.508466Z",
     "iopub.status.idle": "2021-10-07T16:40:32.512702Z",
     "shell.execute_reply": "2021-10-07T16:40:32.512164Z",
     "shell.execute_reply.started": "2021-10-07T16:37:38.595737Z"
    },
    "papermill": {
     "duration": 0.101703,
     "end_time": "2021-10-07T16:40:32.512834",
     "exception": false,
     "start_time": "2021-10-07T16:40:32.411131",
     "status": "completed"
    },
    "tags": []
   },
   "outputs": [
    {
     "data": {
      "text/plain": [
       "{'C': 0.23357214690901212, 'solver': 'liblinear'}"
      ]
     },
     "execution_count": 38,
     "metadata": {},
     "output_type": "execute_result"
    }
   ],
   "source": [
    "# Check the best parameters\n",
    "gs_log_reg.best_params_"
   ]
  },
  {
   "cell_type": "code",
   "execution_count": 39,
   "id": "49228fcb",
   "metadata": {
    "execution": {
     "iopub.execute_input": "2021-10-07T16:40:32.703097Z",
     "iopub.status.busy": "2021-10-07T16:40:32.702331Z",
     "iopub.status.idle": "2021-10-07T16:40:32.705452Z",
     "shell.execute_reply": "2021-10-07T16:40:32.705938Z",
     "shell.execute_reply.started": "2021-10-07T16:37:38.604017Z"
    },
    "papermill": {
     "duration": 0.101519,
     "end_time": "2021-10-07T16:40:32.706098",
     "exception": false,
     "start_time": "2021-10-07T16:40:32.604579",
     "status": "completed"
    },
    "tags": []
   },
   "outputs": [
    {
     "data": {
      "text/plain": [
       "0.8852459016393442"
      ]
     },
     "execution_count": 39,
     "metadata": {},
     "output_type": "execute_result"
    }
   ],
   "source": [
    "# Evaluate\n",
    "\n",
    "gs_log_reg.score(x_test,y_test)"
   ]
  },
  {
   "cell_type": "markdown",
   "id": "1d32c7f2",
   "metadata": {
    "papermill": {
     "duration": 0.090646,
     "end_time": "2021-10-07T16:40:32.886626",
     "exception": false,
     "start_time": "2021-10-07T16:40:32.795980",
     "status": "completed"
    },
    "tags": []
   },
   "source": [
    "Still we did get the same as baseline and RandomizedSearchCV :\\"
   ]
  },
  {
   "cell_type": "markdown",
   "id": "683111c3",
   "metadata": {
    "papermill": {
     "duration": 0.091538,
     "end_time": "2021-10-07T16:40:33.069444",
     "exception": false,
     "start_time": "2021-10-07T16:40:32.977906",
     "status": "completed"
    },
    "tags": []
   },
   "source": [
    "## Evaluating the models beyond score\n",
    "* ROC curve & AUC score \n",
    "* Confusion matrix\n",
    "* Classification report\n",
    "    * Precision\n",
    "    * Recall\n",
    "    * F1 score"
   ]
  },
  {
   "cell_type": "markdown",
   "id": "7c80b865",
   "metadata": {
    "papermill": {
     "duration": 0.091823,
     "end_time": "2021-10-07T16:40:33.253625",
     "exception": false,
     "start_time": "2021-10-07T16:40:33.161802",
     "status": "completed"
    },
    "tags": []
   },
   "source": [
    " We have to make prediction inorder to compare the models"
   ]
  },
  {
   "cell_type": "code",
   "execution_count": 40,
   "id": "0b9990c8",
   "metadata": {
    "execution": {
     "iopub.execute_input": "2021-10-07T16:40:33.447681Z",
     "iopub.status.busy": "2021-10-07T16:40:33.446907Z",
     "iopub.status.idle": "2021-10-07T16:40:33.449997Z",
     "shell.execute_reply": "2021-10-07T16:40:33.450475Z",
     "shell.execute_reply.started": "2021-10-07T16:37:38.618152Z"
    },
    "papermill": {
     "duration": 0.103269,
     "end_time": "2021-10-07T16:40:33.450649",
     "exception": false,
     "start_time": "2021-10-07T16:40:33.347380",
     "status": "completed"
    },
    "tags": []
   },
   "outputs": [
    {
     "data": {
      "text/plain": [
       "array([0, 1, 1, 0, 1, 1, 1, 0, 0, 1, 1, 0, 1, 0, 1, 1, 1, 0, 0, 0, 1, 0,\n",
       "       0, 1, 1, 1, 1, 1, 0, 1, 0, 0, 0, 0, 1, 0, 1, 1, 1, 1, 1, 1, 1, 1,\n",
       "       1, 0, 1, 1, 0, 0, 0, 0, 1, 1, 0, 0, 0, 1, 0, 0, 0])"
      ]
     },
     "execution_count": 40,
     "metadata": {},
     "output_type": "execute_result"
    }
   ],
   "source": [
    "y_pred = gs_log_reg.predict(x_test)\n",
    "\n",
    "y_pred"
   ]
  },
  {
   "cell_type": "markdown",
   "id": "46e42bf1",
   "metadata": {
    "papermill": {
     "duration": 0.090807,
     "end_time": "2021-10-07T16:40:33.635701",
     "exception": false,
     "start_time": "2021-10-07T16:40:33.544894",
     "status": "completed"
    },
    "tags": []
   },
   "source": [
    "> ROC curve & AUC score\n",
    "\n",
    "* Check out this link : https://developers.google.com/machine-learning/crash-course/classification/roc-and-auc#:~:text=An%20ROC%20curve%20"
   ]
  },
  {
   "cell_type": "markdown",
   "id": "bda829f3",
   "metadata": {
    "papermill": {
     "duration": 0.092289,
     "end_time": "2021-10-07T16:40:33.818235",
     "exception": false,
     "start_time": "2021-10-07T16:40:33.725946",
     "status": "completed"
    },
    "tags": []
   },
   "source": [
    "perfect model AUC score = 1"
   ]
  },
  {
   "cell_type": "code",
   "execution_count": 41,
   "id": "342e5bf2",
   "metadata": {
    "execution": {
     "iopub.execute_input": "2021-10-07T16:40:34.029852Z",
     "iopub.status.busy": "2021-10-07T16:40:34.026597Z",
     "iopub.status.idle": "2021-10-07T16:40:34.185160Z",
     "shell.execute_reply": "2021-10-07T16:40:34.184310Z",
     "shell.execute_reply.started": "2021-10-07T16:37:38.637994Z"
    },
    "papermill": {
     "duration": 0.274116,
     "end_time": "2021-10-07T16:40:34.185306",
     "exception": false,
     "start_time": "2021-10-07T16:40:33.911190",
     "status": "completed"
    },
    "tags": []
   },
   "outputs": [
    {
     "data": {
      "image/png": "[encoded data removed]",
      "text/plain": [
       "<Figure size 432x288 with 1 Axes>"
      ]
     },
     "metadata": {
      "needs_background": "light"
     },
     "output_type": "display_data"
    }
   ],
   "source": [
    "plot_roc_curve(gs_log_reg, x_test, y_test);"
   ]
  },
  {
   "cell_type": "markdown",
   "id": "f417cb1a",
   "metadata": {
    "papermill": {
     "duration": 0.094856,
     "end_time": "2021-10-07T16:40:34.375523",
     "exception": false,
     "start_time": "2021-10-07T16:40:34.280667",
     "status": "completed"
    },
    "tags": []
   },
   "source": [
    "AUC score = 0.92"
   ]
  },
  {
   "cell_type": "markdown",
   "id": "37ce3134",
   "metadata": {
    "papermill": {
     "duration": 0.093592,
     "end_time": "2021-10-07T16:40:34.562803",
     "exception": false,
     "start_time": "2021-10-07T16:40:34.469211",
     "status": "completed"
    },
    "tags": []
   },
   "source": [
    "> Confusion matrix"
   ]
  },
  {
   "cell_type": "code",
   "execution_count": 42,
   "id": "30218039",
   "metadata": {
    "execution": {
     "iopub.execute_input": "2021-10-07T16:40:34.778065Z",
     "iopub.status.busy": "2021-10-07T16:40:34.777062Z",
     "iopub.status.idle": "2021-10-07T16:40:34.849491Z",
     "shell.execute_reply": "2021-10-07T16:40:34.850071Z",
     "shell.execute_reply.started": "2021-10-07T16:37:38.871751Z"
    },
    "papermill": {
     "duration": 0.193938,
     "end_time": "2021-10-07T16:40:34.850255",
     "exception": false,
     "start_time": "2021-10-07T16:40:34.656317",
     "status": "completed"
    },
    "tags": []
   },
   "outputs": [
    {
     "data": {
      "image/png": "[encoded data removed]",
      "text/plain": [
       "<Figure size 216x216 with 1 Axes>"
      ]
     },
     "metadata": {
      "needs_background": "light"
     },
     "output_type": "display_data"
    }
   ],
   "source": [
    "def plot_conf_mat(y_test,y_preds):\n",
    "    fig, ax = plt.subplots(figsize=(3,3))\n",
    "    ax = sns.heatmap(confusion_matrix(y_test,y_preds),\n",
    "                     annot = True,\n",
    "                     cbar = False)\n",
    "    \n",
    "    plt.xlabel(\"Predicted label\")\n",
    "    plt.ylabel(\"True label\")\n",
    "    \n",
    "plot_conf_mat(y_test,y_pred)"
   ]
  },
  {
   "cell_type": "markdown",
   "id": "e8a1f1a9",
   "metadata": {
    "papermill": {
     "duration": 0.095397,
     "end_time": "2021-10-07T16:40:35.042707",
     "exception": false,
     "start_time": "2021-10-07T16:40:34.947310",
     "status": "completed"
    },
    "tags": []
   },
   "source": [
    "> Classification report\n",
    "\n",
    "* Precision\n",
    "* Recall\n",
    "* F1 score"
   ]
  },
  {
   "cell_type": "code",
   "execution_count": 43,
   "id": "d587d779",
   "metadata": {
    "execution": {
     "iopub.execute_input": "2021-10-07T16:40:35.242493Z",
     "iopub.status.busy": "2021-10-07T16:40:35.240212Z",
     "iopub.status.idle": "2021-10-07T16:40:35.248087Z",
     "shell.execute_reply": "2021-10-07T16:40:35.248687Z",
     "shell.execute_reply.started": "2021-10-07T16:37:39.024115Z"
    },
    "papermill": {
     "duration": 0.109306,
     "end_time": "2021-10-07T16:40:35.248917",
     "exception": false,
     "start_time": "2021-10-07T16:40:35.139611",
     "status": "completed"
    },
    "tags": []
   },
   "outputs": [
    {
     "name": "stdout",
     "output_type": "stream",
     "text": [
      "              precision    recall  f1-score   support\n",
      "\n",
      "           0       0.89      0.86      0.88        29\n",
      "           1       0.88      0.91      0.89        32\n",
      "\n",
      "    accuracy                           0.89        61\n",
      "   macro avg       0.89      0.88      0.88        61\n",
      "weighted avg       0.89      0.89      0.89        61\n",
      "\n"
     ]
    }
   ],
   "source": [
    "print(classification_report(y_test,y_pred))"
   ]
  },
  {
   "cell_type": "markdown",
   "id": "6f8b96f0",
   "metadata": {
    "papermill": {
     "duration": 0.093448,
     "end_time": "2021-10-07T16:40:35.437144",
     "exception": false,
     "start_time": "2021-10-07T16:40:35.343696",
     "status": "completed"
    },
    "tags": []
   },
   "source": [
    "These are calculates only with single split"
   ]
  },
  {
   "cell_type": "markdown",
   "id": "849c1af8",
   "metadata": {
    "papermill": {
     "duration": 0.092966,
     "end_time": "2021-10-07T16:40:35.624406",
     "exception": false,
     "start_time": "2021-10-07T16:40:35.531440",
     "status": "completed"
    },
    "tags": []
   },
   "source": [
    "### Using cross validation\n",
    "> Classification report\n",
    "\n",
    "* Accuracy\n",
    "* Precision\n",
    "* Recall\n",
    "* F1 score"
   ]
  },
  {
   "cell_type": "code",
   "execution_count": 44,
   "id": "c7249135",
   "metadata": {
    "execution": {
     "iopub.execute_input": "2021-10-07T16:40:35.818173Z",
     "iopub.status.busy": "2021-10-07T16:40:35.817496Z",
     "iopub.status.idle": "2021-10-07T16:40:35.820742Z",
     "shell.execute_reply": "2021-10-07T16:40:35.820222Z",
     "shell.execute_reply.started": "2021-10-07T16:37:39.036889Z"
    },
    "papermill": {
     "duration": 0.102885,
     "end_time": "2021-10-07T16:40:35.820921",
     "exception": false,
     "start_time": "2021-10-07T16:40:35.718036",
     "status": "completed"
    },
    "tags": []
   },
   "outputs": [],
   "source": [
    "# Create a new classifier using best params\n",
    "\n",
    "clf  = LogisticRegression(C=0.23357214690901212,\n",
    "                          solver = \"liblinear\")"
   ]
  },
  {
   "cell_type": "code",
   "execution_count": 45,
   "id": "baf70062",
   "metadata": {
    "execution": {
     "iopub.execute_input": "2021-10-07T16:40:36.019480Z",
     "iopub.status.busy": "2021-10-07T16:40:36.015965Z",
     "iopub.status.idle": "2021-10-07T16:40:36.050144Z",
     "shell.execute_reply": "2021-10-07T16:40:36.049482Z",
     "shell.execute_reply.started": "2021-10-07T16:37:39.043414Z"
    },
    "papermill": {
     "duration": 0.13627,
     "end_time": "2021-10-07T16:40:36.050281",
     "exception": false,
     "start_time": "2021-10-07T16:40:35.914011",
     "status": "completed"
    },
    "tags": []
   },
   "outputs": [
    {
     "data": {
      "text/plain": [
       "0.8479781420765027"
      ]
     },
     "execution_count": 45,
     "metadata": {},
     "output_type": "execute_result"
    }
   ],
   "source": [
    "# Cross-validated Accuracy\n",
    "\n",
    "cv_acc = cross_val_score(clf,x,y,cv=5,scoring=\"accuracy\")\n",
    "\n",
    "cv_acc\n",
    "\n",
    "acc_mean = np.mean(cv_acc)\n",
    "acc_mean"
   ]
  },
  {
   "cell_type": "code",
   "execution_count": 46,
   "id": "b33374b5",
   "metadata": {
    "execution": {
     "iopub.execute_input": "2021-10-07T16:40:36.247427Z",
     "iopub.status.busy": "2021-10-07T16:40:36.243969Z",
     "iopub.status.idle": "2021-10-07T16:40:36.280293Z",
     "shell.execute_reply": "2021-10-07T16:40:36.279837Z",
     "shell.execute_reply.started": "2021-10-07T16:37:39.089811Z"
    },
    "papermill": {
     "duration": 0.13491,
     "end_time": "2021-10-07T16:40:36.280435",
     "exception": false,
     "start_time": "2021-10-07T16:40:36.145525",
     "status": "completed"
    },
    "tags": []
   },
   "outputs": [
    {
     "data": {
      "text/plain": [
       "0.8215873015873015"
      ]
     },
     "execution_count": 46,
     "metadata": {},
     "output_type": "execute_result"
    }
   ],
   "source": [
    "# Cross-validated Precision\n",
    "\n",
    "cv_pre = cross_val_score(clf,x,y,cv=5,scoring=\"precision\")\n",
    "\n",
    "cv_pre\n",
    "\n",
    "pre_mean = np.mean(cv_pre)\n",
    "pre_mean"
   ]
  },
  {
   "cell_type": "code",
   "execution_count": 47,
   "id": "2cd37984",
   "metadata": {
    "execution": {
     "iopub.execute_input": "2021-10-07T16:40:36.474401Z",
     "iopub.status.busy": "2021-10-07T16:40:36.473448Z",
     "iopub.status.idle": "2021-10-07T16:40:36.511377Z",
     "shell.execute_reply": "2021-10-07T16:40:36.510887Z",
     "shell.execute_reply.started": "2021-10-07T16:37:39.133849Z"
    },
    "papermill": {
     "duration": 0.136028,
     "end_time": "2021-10-07T16:40:36.511517",
     "exception": false,
     "start_time": "2021-10-07T16:40:36.375489",
     "status": "completed"
    },
    "tags": []
   },
   "outputs": [
    {
     "data": {
      "text/plain": [
       "0.9272727272727274"
      ]
     },
     "execution_count": 47,
     "metadata": {},
     "output_type": "execute_result"
    }
   ],
   "source": [
    "# Cross-validated Recall\n",
    "\n",
    "cv_re = cross_val_score(clf,x,y,cv=5,scoring=\"recall\")\n",
    "\n",
    "cv_re\n",
    "\n",
    "re_mean = np.mean(cv_re)\n",
    "re_mean"
   ]
  },
  {
   "cell_type": "code",
   "execution_count": 48,
   "id": "810b1006",
   "metadata": {
    "execution": {
     "iopub.execute_input": "2021-10-07T16:40:36.706312Z",
     "iopub.status.busy": "2021-10-07T16:40:36.705670Z",
     "iopub.status.idle": "2021-10-07T16:40:36.740318Z",
     "shell.execute_reply": "2021-10-07T16:40:36.741014Z",
     "shell.execute_reply.started": "2021-10-07T16:37:39.177805Z"
    },
    "papermill": {
     "duration": 0.136089,
     "end_time": "2021-10-07T16:40:36.741219",
     "exception": false,
     "start_time": "2021-10-07T16:40:36.605130",
     "status": "completed"
    },
    "tags": []
   },
   "outputs": [
    {
     "data": {
      "text/plain": [
       "0.8705403543192143"
      ]
     },
     "execution_count": 48,
     "metadata": {},
     "output_type": "execute_result"
    }
   ],
   "source": [
    "# Cross-validated F1 score\n",
    "\n",
    "cv_f1 = cross_val_score(clf,x,y,cv=5,scoring=\"f1\")\n",
    "\n",
    "cv_f1\n",
    "\n",
    "f1_mean = np.mean(cv_f1)\n",
    "f1_mean"
   ]
  },
  {
   "cell_type": "code",
   "execution_count": 49,
   "id": "2c04f240",
   "metadata": {
    "execution": {
     "iopub.execute_input": "2021-10-07T16:40:36.939080Z",
     "iopub.status.busy": "2021-10-07T16:40:36.938319Z",
     "iopub.status.idle": "2021-10-07T16:40:37.089204Z",
     "shell.execute_reply": "2021-10-07T16:40:37.090057Z",
     "shell.execute_reply.started": "2021-10-07T16:37:39.220404Z"
    },
    "papermill": {
     "duration": 0.249412,
     "end_time": "2021-10-07T16:40:37.090330",
     "exception": false,
     "start_time": "2021-10-07T16:40:36.840918",
     "status": "completed"
    },
    "tags": []
   },
   "outputs": [
    {
     "data": {
      "image/png": "[encoded data removed]",
      "text/plain": [
       "<Figure size 432x288 with 1 Axes>"
      ]
     },
     "metadata": {
      "needs_background": "light"
     },
     "output_type": "display_data"
    }
   ],
   "source": [
    "# Visualizing cross validated matrix\n",
    "\n",
    "cv_metrics = pd.DataFrame({\"Accuracy\":acc_mean,\n",
    "                           \"Precision\":pre_mean,\n",
    "                           \"Recall\":re_mean,\n",
    "                           \"F1\":f1_mean},\n",
    "                            index = [0])\n",
    "cv_metrics.T.plot.bar(title = \"Crovalidated Classification Report\",legend = False);"
   ]
  },
  {
   "cell_type": "markdown",
   "id": "876acff1",
   "metadata": {
    "papermill": {
     "duration": 0.09444,
     "end_time": "2021-10-07T16:40:37.279955",
     "exception": false,
     "start_time": "2021-10-07T16:40:37.185515",
     "status": "completed"
    },
    "tags": []
   },
   "source": [
    "## Important Features"
   ]
  },
  {
   "cell_type": "markdown",
   "id": "29b4355c",
   "metadata": {
    "papermill": {
     "duration": 0.09342,
     "end_time": "2021-10-07T16:40:37.468142",
     "exception": false,
     "start_time": "2021-10-07T16:40:37.374722",
     "status": "completed"
    },
    "tags": []
   },
   "source": [
    "> This is different for different models\n",
    "\n",
    "for LogisticRegression"
   ]
  },
  {
   "cell_type": "code",
   "execution_count": 50,
   "id": "340f5834",
   "metadata": {
    "execution": {
     "iopub.execute_input": "2021-10-07T16:40:37.661747Z",
     "iopub.status.busy": "2021-10-07T16:40:37.661053Z",
     "iopub.status.idle": "2021-10-07T16:40:37.667897Z",
     "shell.execute_reply": "2021-10-07T16:40:37.668374Z",
     "shell.execute_reply.started": "2021-10-07T16:37:39.428298Z"
    },
    "papermill": {
     "duration": 0.104633,
     "end_time": "2021-10-07T16:40:37.668533",
     "exception": false,
     "start_time": "2021-10-07T16:40:37.563900",
     "status": "completed"
    },
    "tags": []
   },
   "outputs": [],
   "source": [
    "clf  = LogisticRegression(C=0.23357214690901212,\n",
    "                          solver = \"liblinear\")\n",
    "\n",
    "# fit the model\n",
    "\n",
    "clf.fit(x_train,y_train);"
   ]
  },
  {
   "cell_type": "code",
   "execution_count": 51,
   "id": "1dfbe2ad",
   "metadata": {
    "execution": {
     "iopub.execute_input": "2021-10-07T16:40:37.860415Z",
     "iopub.status.busy": "2021-10-07T16:40:37.859824Z",
     "iopub.status.idle": "2021-10-07T16:40:37.864439Z",
     "shell.execute_reply": "2021-10-07T16:40:37.865013Z",
     "shell.execute_reply.started": "2021-10-07T16:37:39.438193Z"
    },
    "papermill": {
     "duration": 0.102236,
     "end_time": "2021-10-07T16:40:37.865195",
     "exception": false,
     "start_time": "2021-10-07T16:40:37.762959",
     "status": "completed"
    },
    "tags": []
   },
   "outputs": [
    {
     "data": {
      "text/plain": [
       "array([[ 0.00369922, -0.9042409 ,  0.67472826, -0.0116134 , -0.00170364,\n",
       "         0.04787688,  0.33490198,  0.02472938, -0.63120406, -0.5759095 ,\n",
       "         0.47095141, -0.65165348, -0.69984208]])"
      ]
     },
     "execution_count": 51,
     "metadata": {},
     "output_type": "execute_result"
    }
   ],
   "source": [
    "# Coefficient : how the attributes contribute for prediction\n",
    "clf.coef_"
   ]
  },
  {
   "cell_type": "code",
   "execution_count": 52,
   "id": "d2cf2400",
   "metadata": {
    "execution": {
     "iopub.execute_input": "2021-10-07T16:40:38.058840Z",
     "iopub.status.busy": "2021-10-07T16:40:38.058179Z",
     "iopub.status.idle": "2021-10-07T16:40:38.063543Z",
     "shell.execute_reply": "2021-10-07T16:40:38.064116Z",
     "shell.execute_reply.started": "2021-10-07T16:37:39.450951Z"
    },
    "papermill": {
     "duration": 0.104192,
     "end_time": "2021-10-07T16:40:38.064268",
     "exception": false,
     "start_time": "2021-10-07T16:40:37.960076",
     "status": "completed"
    },
    "tags": []
   },
   "outputs": [
    {
     "data": {
      "text/plain": [
       "{'age': 0.003699220776580221,\n",
       " 'sex': -0.9042409028785717,\n",
       " 'cp': 0.6747282587404362,\n",
       " 'trestbps': -0.011613401339975146,\n",
       " 'chol': -0.0017036439067759743,\n",
       " 'fbs': 0.047876881148997324,\n",
       " 'restecg': 0.3349019815885189,\n",
       " 'thalach': 0.02472938284108309,\n",
       " 'exang': -0.6312040612837573,\n",
       " 'oldpeak': -0.5759095045469952,\n",
       " 'slope': 0.4709514073081419,\n",
       " 'ca': -0.6516534770577476,\n",
       " 'thal': -0.6998420764664995}"
      ]
     },
     "execution_count": 52,
     "metadata": {},
     "output_type": "execute_result"
    }
   ],
   "source": [
    "# Match the coefficient to the columns\n",
    "feature_dict = dict(zip(heart_disease.columns,list(clf.coef_[0])))\n",
    "feature_dict"
   ]
  },
  {
   "cell_type": "code",
   "execution_count": 53,
   "id": "2300e9b2",
   "metadata": {
    "execution": {
     "iopub.execute_input": "2021-10-07T16:40:38.257902Z",
     "iopub.status.busy": "2021-10-07T16:40:38.257237Z",
     "iopub.status.idle": "2021-10-07T16:40:38.524850Z",
     "shell.execute_reply": "2021-10-07T16:40:38.525393Z",
     "shell.execute_reply.started": "2021-10-07T16:37:39.462731Z"
    },
    "papermill": {
     "duration": 0.365962,
     "end_time": "2021-10-07T16:40:38.525575",
     "exception": false,
     "start_time": "2021-10-07T16:40:38.159613",
     "status": "completed"
    },
    "tags": []
   },
   "outputs": [
    {
     "data": {
      "image/png": "[encoded data removed]",
      "text/plain": [
       "<Figure size 432x288 with 1 Axes>"
      ]
     },
     "metadata": {
      "needs_background": "light"
     },
     "output_type": "display_data"
    }
   ],
   "source": [
    "# Visualize it\n",
    "feature_df = pd.DataFrame(feature_dict, index = [0])\n",
    "feature_df.T.plot.bar(title=\"Feature Importance\",legend = False);"
   ]
  },
  {
   "cell_type": "markdown",
   "id": "d6b965c1",
   "metadata": {
    "papermill": {
     "duration": 0.095418,
     "end_time": "2021-10-07T16:40:38.716515",
     "exception": false,
     "start_time": "2021-10-07T16:40:38.621097",
     "status": "completed"
    },
    "tags": []
   },
   "source": [
    "We can analyse the above graph and improve our dataset much more"
   ]
  },
  {
   "cell_type": "markdown",
   "id": "11cc5354",
   "metadata": {
    "papermill": {
     "duration": 0.096188,
     "end_time": "2021-10-07T16:40:38.908907",
     "exception": false,
     "start_time": "2021-10-07T16:40:38.812719",
     "status": "completed"
    },
    "tags": []
   },
   "source": [
    "# Conclusion\n",
    "* We got accuracy of 88.5% which is low in this case\n",
    "* We cannot practically implement it\n",
    "\n",
    "> Want we can do?\n",
    "\n",
    "* Try better model like CatBoost or XGBoost\n",
    "* Try to collect more data"
   ]
  }
 ],
 "metadata": {
  "kernelspec": {
   "display_name": "Python 3",
   "language": "python",
   "name": "python3"
  },
  "language_info": {
   "codemirror_mode": {
    "name": "ipython",
    "version": 3
   },
   "file_extension": ".py",
   "mimetype": "text/x-python",
   "name": "python",
   "nbconvert_exporter": "python",
   "pygments_lexer": "ipython3",
   "version": "3.7.10"
  },
  "papermill": {
   "default_parameters": {},
   "duration": 128.573794,
   "end_time": "2021-10-07T16:40:39.614785",
   "environment_variables": {},
   "exception": null,
   "input_path": "__notebook__.ipynb",
   "output_path": "__notebook__.ipynb",
   "parameters": {},
   "start_time": "2021-10-07T16:38:31.040991",
   "version": "2.3.3"
  }
 },
 "nbformat": 4,
 "nbformat_minor": 5
}
